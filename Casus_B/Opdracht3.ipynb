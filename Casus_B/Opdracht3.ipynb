{
 "cells": [
  {
   "metadata": {},
   "cell_type": "markdown",
   "source": [
    "# Deel 1: preprocessing\n",
    "De data die we gaan gebruiken is (weer) de wiki-pagina over kanker. De tekst hiervan kun je hier downloaden. Gebruik van alle zinnen die je hierin vindt alleen de zinnen die meer dan tien woorden bevatten. Voeg deze zinnen samen in een lijst data. Als het goed is, is len(data)=59."
   ],
   "id": "30bf1979addef15d"
  },
  {
   "metadata": {
    "ExecuteTime": {
     "end_time": "2024-12-04T11:54:48.175115Z",
     "start_time": "2024-12-04T11:54:48.167740Z"
    }
   },
   "cell_type": "code",
   "source": [
    "with(open(\"wiki.txt\", \"r\")) as file:\n",
    "    wiki_text = [line.strip() for line in file if len(line.strip().split()) >= 10]\n",
    "\n",
    "print(f\"wiki_text len: {len(wiki_text)}\")\n",
    "    "
   ],
   "id": "a08f0b528483923d",
   "outputs": [
    {
     "name": "stdout",
     "output_type": "stream",
     "text": [
      "wiki_text len: 62\n"
     ]
    }
   ],
   "execution_count": 39
  },
  {
   "metadata": {},
   "cell_type": "markdown",
   "source": [
    "Maak vervolgens een functie preprocess_sentence die een string meekrijgt en die die string opgeschoond teruggeeft. Het opschonen van de string bestaat uit de volgende twee stappen:\n",
    "\n",
    "+ verwijderen van (in ieder geval) de volgende karakters: /, ., ., ', ,, \", :, ;, (, ) (misschien dat er nog andere karakters zijn die je uit de zinnen wilt halen).\n",
    "+ verwijderen van de stopwoorden uit de zin; dit zijn woorden die wel nodig zijn voor de grammatica, maar niet per se om de context te bepalen. Je kunt de stopwoorden hier downloaden."
   ],
   "id": "e45baac8253fa7fe"
  },
  {
   "metadata": {
    "ExecuteTime": {
     "end_time": "2024-12-04T11:54:48.297524Z",
     "start_time": "2024-12-04T11:54:48.290282Z"
    }
   },
   "cell_type": "code",
   "source": [
    "with(open(\"stopwoorden.txt\", \"r\")) as file:\n",
    "    stopwoorden = [line.strip() for line in file if line]\n",
    "\n",
    "def preprocess_sentence(sentence):\n",
    "    to_exclude = \"/..\\',\\\":;()[]0123456789\"\n",
    "    sentence = \" \".join([word for word in sentence.split() if word not in stopwoorden])\n",
    "    sentence = \"\".join([letter if letter not in to_exclude else \" \" for letter in sentence])\n",
    "\n",
    "    return sentence\n"
   ],
   "id": "452f01253e959f09",
   "outputs": [],
   "execution_count": 40
  },
  {
   "metadata": {},
   "cell_type": "markdown",
   "source": "Roep nu de functie preprocess_data aan met alle zinnen uit data. Sla het resultaat op in een nieuwe variabele (bijvoorbeeld sentences of corpus). Deze variabele is je corpus.",
   "id": "356496bc8a97260c"
  },
  {
   "metadata": {
    "ExecuteTime": {
     "end_time": "2024-12-04T11:54:48.371481Z",
     "start_time": "2024-12-04T11:54:48.346398Z"
    }
   },
   "cell_type": "code",
   "source": "corpus  = [preprocess_sentence(sentence) for sentence in wiki_text]",
   "id": "e2885509477c53db",
   "outputs": [],
   "execution_count": 41
  },
  {
   "metadata": {},
   "cell_type": "markdown",
   "source": "Een tweede stap die we moeten zetten is het samenstellen van het vocabulaire: de woorden waaruit onze zinnen zijn samengesteld (net zoals het Nederlandse woordenboek alle woorden bevat waaruit alle Nederlandse zinnen zijn samengesteld). Sla dit op in een tweede variabele (standaard heet dat ding vocab). Als het goed is, zijn er 717 woorden in je vocabulaire.",
   "id": "e57c5305e0689633"
  },
  {
   "metadata": {
    "ExecuteTime": {
     "end_time": "2024-12-04T11:54:48.409827Z",
     "start_time": "2024-12-04T11:54:48.403163Z"
    }
   },
   "cell_type": "code",
   "source": [
    "vocab = list(set(\" \".join(corpus).split()))\n",
    "print(f\"vocab len: {len(vocab)}\")\n",
    "print(corpus)"
   ],
   "id": "4f734bcf154c627d",
   "outputs": [
    {
     "name": "stdout",
     "output_type": "stream",
     "text": [
      "vocab len: 819\n",
      "['Kanker  medisch Latijn  neoplasma malignum   kwaadaardig  nieuwgevormd weefsel   ziekte uit ', 'cellen onbeheerst vermenigvuldigen  doen ', 'woekerende cellen omliggend weefsel richten schade  invasieve groei infiltratie  ', 'woekerende cellen verspreiden plaatsen lichaam  metastasering uitzaaiing  lymfevaten  lymfogene metastasering   bloed  hematogene metastasering  verschillende lichaamsholten  bijvoorbeeld buikholte ', 'Nagenoeg medische specialismen behandeling kanker  medisch specialisten oncologie radiotherapie  In      kanker Nederland doodsoorzaak ', 'Lezing dr  Kishan Naipal  Erasmus MC  kanker - Universiteit Nederland', 'Het  kanker  klassiek Latijnse  cancer   betekenis  vanuit Grieks Romeinse encyclopedieschrijver Celsus    ', 'Kanker aandoening gekenmerkt onbeheerste groei nieuw  abnormaal weefsel neoplasie  aanhoudende  ongecontroleerde celdeling  Gezonde cellen lichaam  prolifereren  is  bepaalde organen vernieuwing herstel zijn  Tijdens celproliferatie cellen specifieke grootte  afhankelijk functie  proces celdifferentiatie  Deze deling differentiatie invloed extracellulaire  cel afkomstige factoren hormonen  chemische stoffen  virussen  inwendige  intracellulaire signalen  Beide soorten factoren bevorderen aanmaak specifieke eiwitten invloed specifieke regel-genen cel  stimulerende remmende invloed celdeling uitoefenen  Inwendige intracellulaire signalen cellulaire signaalstoffen  respectievelijk groeifactoren groeiremmers ', 'Wanneer één meerdere cellen ontsnappen regulerende mechanismen  ongecontroleerde celdeling celwoekering lokaal gezwel tumor ontstaan  Er ontregeling complexe samenspel groeibevorderende groeiremmende factoren voordeel groeistimulatie  De delende cellen  nieuwgroei neoplasie  normale functie verloren  Er kanker geval kwaadaardige  of maligne  gezwellen  Deze zijn  tegenstelling goedaardige  of benigne  gezwellen  orgaan vernietigen  beschadigen  Bovendien verspreiden  invasie omgeving uitgroeien omringende weefsel  Eventueel uitzaaien bloed- lymfestroom organen terechtkomen ', 'In Nederland      Nederlandse kankerregistratie         gevallen kanker vastgesteld  Er stierven             mensen kanker ', 'In België             mensen kanker            mannen    %         vrouwen    %   Het risico overlijden kanker jaar jaar  mensen kanker overleven langer ', 'Bij mannen volgende typen kanker voor  prostaatkanker  longkanker darmkanker ', 'Bij vrouwen meest voor  borstkanker  darmkanker longkanker ', 'Kankersoorten kinderen jongeren meest frequent voorkomen leukemie  lymfomen hersentumoren ', 'Centraal pathogenese  het ontstaan  kanker defecten DNA  genmutaties  Genmutaties erfelijke aanleg  verwerving milieu-invloeden    ', 'Erfelijke mutaties  Er mutaties overgeërfd verhoogd risico kanker  In verband gesproken erfelijke kanker  Voorbeelden BRCA -gen BRCA -gen  Vrouwen dergelijke  overgeërfde mutatie verhoogd risico borstkanker ovariumcarcinoom ', 'Infecties  Verschillende biologische ziekteverwekkers verband bepaalde typen kanker     Enkele voorbeelden zijn ', 'Roken  alcohol consumptie rood vlees  maar vlees  oorzakelijk verband verschillende kanker  Ook chemische bestrijdingsmiddelen    verband ', 'Fysische factoren  Ultraviolette ioniserende straling mutaties  kanker veroorzaken ', 'Chemische stoffen  Van verschillende chemische stoffen kanker veroorzaken  zogeheten carcinogenen  Voorbeelden stoffen gekoppelde  verhoogde risico bepaalde kanker zijn ', 'Om daadwerkelijk kanker moeten mutaties genen betrokken reguleren celdeling  De volgende genen belang ', 'Kanker treedt aantal bovengenoemde genen mutaties opgetreden  Verder mutatie kans nieuwe mutaties toeneemt  Mutaties proto-oncogenen tumorsuppressorgenen mogelijk cellen ongebreideld delen  Bij deling  ook gezonde cellen  kans mutaties  Dat mutaties DNA-repairgenen kans nieuwe mutaties verhoogt  zich  Dankzij onderdrukking apoptose cel vernietigd ', 'Bij ontwikkeling kanker mutaties bovengenoemde genen  Naarmate kankerproces voortschrijdt  zullen mutaties waardoor ', 'nieuwe bloedvaten aangelegd tumor ontwikkeling  angiogenese  ', 'ontaarde cellen omliggende weefsel dringen  invasie  ', 'ontaarde cellen omgeving terechtkomen plaatsen lichaam uitgroeien tumor  metastasering  ', 'ontaarde cellen  onsterfelijk  worden  normaal gesproken cel ongeveer     Hayflick-limiet   kankercellen limiet niet ', 'Indien ontaarde cellen uiteindelijk voldoen kenmerken kanker  ongebreideld delen  infiltreren omgeving metastaseren   kanker  Kankercellen zullen nauwelijks oorspronkelijke functie bezighouden  energie aanwenden delen ', 'Allereerst puntmutatie tumorsuppressorgenen  Bij amplificatie één meerdere kopieën gen genomen  Hierdoor teveel groeibevorderende genen evenwicht tumorsuppressorgenen balans brengen ', 'Een mogelijkheid chromosoomtranslocatie  Bij reciproque wederzijdse translocatie proto-oncogen plaats eventueel chromosoom liggen  Hierdoor gen onttrokken invloed normaal regulerende genen  Het gen bijvoorbeeld terechtkomen gebied regulerende DNA-sequenties liggen  expressie toenemen  geval burkittlymfoom chronische myeloïde leukemie ', 'Door samensmelting verschillende genen fusiegen ontstaan  Philadelphiachromosoom  actief gevaarlijk oncogen gedragen ', 'Deze genen zorgen gewoonlijk cellen ongebreideld delen  Wanneer tumorsuppressorgenen mutatie regulering deling cel verdwijnen  Zodoende cel ongestoord verdergaan delen  Naast mutaties tumorsuppressorgenen uitgeschakeld worden  Sommige genen uitgeschakeld hyper-methylering promotor-regio gen ', 'Proto-oncogenen gewoonlijk betrokken stimuleren normale celdelingen  groeibevorderende genen zorgen groei deling cellen  Wanneer nodig  organen weefsel omvang toenemen  stimuleren celdeling  Indien mutatie proto-oncogen verwordt oncogen  Een onco-gen cel overmatige  zelfs onbeperkte deling ', 'Wanneer cel normale wijze functioneert  treedt  zelfvernietigingsmechanisme  werking cel gronde gaat  Bij kanker genen zorgen uitgeschakeld ', 'Lichaamscellen beschikking DNA-herstelsysteem  Hiermee afwijkingen DNA hersteld worden  Wanneer mutatie DNA-herstelgen fouten DNA voldoende hersteld  Daardoor defecten DNA ', 'Sommige chemicaliën betrokken    –   % kankergevallen mensen voorkomen  De chemicaliën mutageen zeggen nieuwe mutaties opwekken  Dat chromosomen  genomen genen mutatiefrequentie opdrijven  Let mutaties kanker opwekken  factoren zekerheid kanker genereren noemen carcinogenen  Alle carcinogeen mutageen omgekeerd ', 'De grote betrokkenheid chemicaliën verbinding aangaan DNA  Mutagene chemicaliën elektrofiele stoffen genoemd  We onderscheid actief mutagene stoffen promutagenen stoffen mutageen invloed bepaalde enzymen lichaam ', 'Er carcinogenen opgespoord  verbrand gefrituurd voedsel  bacteriën  schimmels medicamenten kankerverwekkende effecten  Dat laatste verklaren doordat voornamelijk hormonen kankerstimulerend werken  bijvoorbeeld deshormoon  di-ethylstilbestrol   derivaat oestrogeen  bleek vaginale kanker ontstaan  Maar geslachtshormonen veroorzaken mutaties  gedragen kankerpromotoren stimuleren bestaande kankercellen ontwikkeling  Naast kankerpromotoren co-mutagenen rechtstreekse mutageen bevordert  Alcohol zo’n stof invloed bepaalde carcinogeen leverkanker hand werken ', 'Ook fysische factoren straling grote energie-inhoud kanker veroorzaken  Deze stralen golflengte ioniserende stralen  moleculen elektrisch laden  Dit gevolg DNA beschadigd vervolgens mutaties voortbrengt  Voorbeelden ioniserende stralen X-stralen  röntgenfoto’s   gammastralen  atoombom  kosmische stralen  heelal   zelfs gelegen weefsel mutaties niveau lichaamscellen  somamutatie  erfelijke mutaties teweegbrengen  De straling rechtstreeks kans kanker toenemen doordat proto-oncogenen lichaam activeert  Het effect zo n straling hangt intensiteit opnamesnelheid af  Bij laag geconcentreerde gedoseerde straling lichaam beschadigde cellen herstellen  intensieve blootstelling verhoogd risico kanker ', 'Ook zonlicht straling  uv-stralen niet-ioniserend  lichaamsdelen beschadigen  Enerzijds brandwonden veroorzaken  kans huidkanker aanzienlijk vergroten ', 'Maar genmutaties verantwoordelijk kankers  uitwendige factoren groeiregeling cellen beïnvloeden  Virussen planten rechtstreeks onrechtstreeks kanker ontstaan  RNA-retrovirussen virale oncogenen reverse transcriptie omgezet DNA-kopie  De oncogenen virus proto-oncogenen  gestolen DNA cellen besmet hebben  virale enhancers kleine mutaties actiever geworden omgevormd oncogenen  Dit vervolgens DNA cel ingevoegd planten rechtstreeks kanker teweegbrengen ', 'Virussen onrechtstreeks kanker veroorzaken  humaan T-cel lymfotroop virus    HTLV   veroorzaakt leukemie oncogenen  Het oefent groeibevorderende invloed gen genen productie groeifactoren activeren  Het indirecter bijvoorbeeld war sturen productie normale regulerende eiwitten  Dit virus één schakel factoren ', 'Er gezwellen  tumoren   Hoewel  tumor  patiënten angstige bijklank minder  zwelling   Een tumor zowel goed- kwaadaardig zijn  Een goedaardige tumor benigne genoemd  kwaadaardige maligne  Bij kanker maligne tumoren ', 'Kankerweefsel geneest goed bloeden  Bloedverlies  bijvoorbeeld ontlasting  urine  tepel hoesten  belangrijke vroege waarschuwingssymptomen ', 'De gezwellen drukken structuren belemmeren werking  Bij darm bijvoorbeeld passage voedsel onmogelijk worden  vanuit - zwellingen geblokkeerde - zenuwbanen ruggenmerg verlammingen ontstaan  botten breuken optreden  zenuwen pijn ontstaan  hersentumoren neurologische problemen epilepsie  Als beenmerg - bloedaanmaak plaatsvindt - tumorweefsel vervangen  ernstige bloedarmoede stollingsstoornissen ', 'Kanker veroorzaakt verandering stofwisseling regulatie  paraneoplastische syndromen   waaronder ', 'Binnen oncologie beeldvormende onderzoeken prominente rol  Belangrijke beeldvormende onderzoeken zijn ', 'Naast beeldvormend onderzoek pathologisch onderzoek zijn  Hierbij gekeken kankercellen  cytologie  verband kankercellen omgeving  histologie   Dit materiaal verkregen middels puncties naald operatieve verwijdering  Vaak operatief gekeken kankerproces uitgebreid lichaam  lymfeklieren metastasen afstand  ', 'Uiteindelijk grond diagnostiek volgen behandelingstraject bepaald ', 'palliatieve zorg  verzachten pijn overige symptomen  genezing mogelijk', 'en of mogelijkheid tumorweefsel operatief verwijderen ', 'combinatie verschillende typen behandelingstechnieken gebruikt  De verschillende methoden zowel curatie palliatie worden  Als metastasen zijn  chirurgisch verwijderen tumor curatief  leidt volledige genezing   Anderzijds gevorderde kanker palliatieve  verzachtende  chirurgie  bijvoorbeeld pijn opgegeven patiënt verminderen ', 'Er nieuwe therapieën ontwikkeld  gentherapie immunotherapie  Deze experimentele behandelingen onderdeel wetenschappelijk  geneeskundig onderzoek  Immunotherapie inmiddels ingeburgerd oncologische praktijk  voorbeeld behandeling borstkanker trastuzumab  Herceptin  ', 'Voorbeelden succesvolle  eiwitten geneesmiddelen Amerikaanse bedrijf Genentech  bevacizumab  Avastin  darmkanker  trastuzumab  Herceptin  borstkanker rituximab  Mabthera  non-hodgkinlymfoom  Pfizer middel sunitinib  Sutent  nierkanker markt  Bayer sorafenib  Nexavar  nierkanker  Behalve kankergezwel zelf  symptomen ziekte  bijwerkingen behandelingen bestreden door ', 'pijnstillers  medicamenten effect pijnstilling versterken ', 'medicamenten misselijkheid  obstipatie mond  remedie bijwerkingen opiaten pijnstillers ', 'Recent klinische pathologie neoplasmata  gezwellen  communiceren groot netwerk  Daarbij wisselen stoffen overleven  effecten bestraling chemotherapie vermijden  Netwerkcommunicatie belangrijke uitzaaiingen  Tumorcellen zelfs verbonden gezonde zenuwcellen  ontvangen directe signalen – tumoren sneller groeien  De ontdekte mechanismen benaderingen nieuwe therapieën groei tumoren stoppen bestaande therapieën effectiever maken  Zo verstoring zelfs vernietiging ontdekte tumorcelnetwerken therapeutisch principe  behandelmogelijkheid  oncologie  De klinische onderzoeken behandelmethoden inmiddels ontwikkeld nieuwe inzichten    ', 'Het risico kanker belangrijk gereduceerd gezonde levensstijl  Niet roken  overgewicht vermijden  voldoende fruit groente eten  regelmatig bewegen algemene aanbevelingen kans kanker  hart- vaatziekten beperken  Dit kanker gezond leeft  Ook risico aanwezig externe invloeden luchtvervuiling zonlicht  Genetische aanleg onafhankelijk externe factoren kanker leiden ', 'Bij preventie erfelijke kanker kijken  Wanneer bepaalde erfelijke kanker familie voorkomt  kan  vraagt  overgegaan preventief genetisch onderzoek familieleden  In principe wettelijk leeftijd achttien jaar  uitgezonderd erfelijke kankervormen  jonge leeftijd onderzoek  zelfs preventieve behandeling is  Een voorbeeld MEN -mutatie  Bij dragers mutatie vijfjarige leeftijd schildklier preventief verwijderd schildklierkanker voorkomen ', 'Bekend mutaties BRCA -gen BRCA -gen  Mutaties genen vrouwen verhoogd risico borstkanker eierstokkanker  Het BRCA -gen mannen borstkanker veroorzaken  Vrouwen draagster gemuteerde genen besluiten preventief borsten verwijderen  Hierbij zeer zorgvuldige overweging moeten vrouwen zelf ', 'Infectie humaan papillomavirus aanleiding voorstadium kanker cervix vulva  cervixcarcinoom genitale wratten  Vaccinatie humaan papilloma-virus  voorkomt   % aandoeningen  Deze middelen Gardasil Cervarix ', ' Kanker  scheldwoord  sommigen schokkender beschouwd schelden godverdomme   Kankeren  op iets   negatieve kritiek geven  In bouw termen betonkanker muurkanker gebruikt  respectievelijk betonrot muurschimmel ']\n"
     ]
    }
   ],
   "execution_count": 42
  },
  {
   "metadata": {},
   "cell_type": "markdown",
   "source": [
    "# Stap 2: CBOW paren aanmaken\n",
    "Maak nu een functie create_pairs die alle zinnen uit het corpus meekrijgt (corpus), en een parameter (w_size) die aangeeft hoe groot het window moet zijn waarmee het algoritme door het corpus loopt (2, in het voorbeeld hierboven). Deze functie loopt per zin met stappen van w_size over de woorden w van de zin heen. Elke iteratie worden de w_size aan de linkerkant én aan de rechterkant van het woord w als context (als input als het ware) gezien en het woord w zelf als output (zie eventueel de beschrijving hierboven). Sla uiteindelijk alle contexten op in een matrix X en alle woorden w in een vector y. Retourneer X en y."
   ],
   "id": "89777654628bc0af"
  },
  {
   "metadata": {
    "ExecuteTime": {
     "end_time": "2024-12-04T11:54:48.484928Z",
     "start_time": "2024-12-04T11:54:48.468450Z"
    }
   },
   "cell_type": "code",
   "source": [
    "def create_pairs(corpus, w_size):\n",
    "    X = []\n",
    "    y = []\n",
    "    for sentence in corpus: # per zin\n",
    "        sentence = sentence.split()\n",
    "        for i in range(w_size, len(sentence) - w_size - 1): # per woord\n",
    "            contex = []\n",
    "            for j in range(w_size * 2 +1): # context index\n",
    "                if j -w_size != 0: # niet y woord\n",
    "                    contex.append(sentence[i + j -w_size])\n",
    "            \n",
    "            X.append([contex])\n",
    "            y.append([sentence[i]])\n",
    "    return X, y\n",
    "            \n",
    "x , y = create_pairs(corpus, 3)\n",
    "\n",
    "print(corpus[0])\n",
    "print(x[0])\n",
    "print(y[0])\n",
    "        "
   ],
   "id": "34d31453ce31d90c",
   "outputs": [
    {
     "name": "stdout",
     "output_type": "stream",
     "text": [
      "Kanker  medisch Latijn  neoplasma malignum   kwaadaardig  nieuwgevormd weefsel   ziekte uit \n",
      "[['Kanker', 'medisch', 'Latijn', 'malignum', 'kwaadaardig', 'nieuwgevormd']]\n",
      "['neoplasma']\n"
     ]
    }
   ],
   "execution_count": 43
  },
  {
   "metadata": {
    "ExecuteTime": {
     "end_time": "2024-12-04T11:54:48.538868Z",
     "start_time": "2024-12-04T11:54:48.535954Z"
    }
   },
   "cell_type": "code",
   "source": "",
   "id": "b30f983e568a711c",
   "outputs": [],
   "execution_count": null
  }
 ],
 "metadata": {
  "kernelspec": {
   "display_name": "Python 3",
   "language": "python",
   "name": "python3"
  },
  "language_info": {
   "codemirror_mode": {
    "name": "ipython",
    "version": 2
   },
   "file_extension": ".py",
   "mimetype": "text/x-python",
   "name": "python",
   "nbconvert_exporter": "python",
   "pygments_lexer": "ipython2",
   "version": "2.7.6"
  }
 },
 "nbformat": 4,
 "nbformat_minor": 5
}
