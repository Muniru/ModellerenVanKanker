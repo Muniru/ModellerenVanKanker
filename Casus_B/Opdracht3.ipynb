{
 "cells": [
  {
   "metadata": {},
   "cell_type": "markdown",
   "source": [
    "# Deel 1: preprocessing\n",
    "De data die we gaan gebruiken is (weer) de wiki-pagina over kanker. De tekst hiervan kun je hier downloaden. Gebruik van alle zinnen die je hierin vindt alleen de zinnen die meer dan tien woorden bevatten. Voeg deze zinnen samen in een lijst data. Als het goed is, is len(data)=59."
   ],
   "id": "30bf1979addef15d"
  },
  {
   "metadata": {
    "ExecuteTime": {
     "end_time": "2024-12-02T10:45:35.902031Z",
     "start_time": "2024-12-02T10:45:35.895149Z"
    }
   },
   "cell_type": "code",
   "source": [
    "from nltk.corpus import stopwords\n",
    "from numpy.ma.core import append\n",
    "\n",
    "with(open(\"wiki.txt\", \"r\")) as file:\n",
    "    wiki_text = \"\".join(line.strip() for line in file)\n",
    "\n",
    "wiki_text = wiki_text.split(\".\")\n",
    "wiki_text = [sentence + \".\" for sentence in wiki_text if len(set(sentence.split())) >= 10]\n",
    "\n",
    "\n",
    "print(f\"wiki_text len: {len(wiki_text)}\")\n",
    "    "
   ],
   "id": "a08f0b528483923d",
   "outputs": [
    {
     "name": "stdout",
     "output_type": "stream",
     "text": [
      "wiki_text len: 134\n"
     ]
    }
   ],
   "execution_count": 98
  },
  {
   "metadata": {},
   "cell_type": "markdown",
   "source": [
    "Maak vervolgens een functie preprocess_sentence die een string meekrijgt en die die string opgeschoond teruggeeft. Het opschonen van de string bestaat uit de volgende twee stappen:\n",
    "\n",
    "+ verwijderen van (in ieder geval) de volgende karakters: /, ., ., ', ,, \", :, ;, (, ) (misschien dat er nog andere karakters zijn die je uit de zinnen wilt halen).\n",
    "+ verwijderen van de stopwoorden uit de zin; dit zijn woorden die wel nodig zijn voor de grammatica, maar niet per se om de context te bepalen. Je kunt de stopwoorden hier downloaden."
   ],
   "id": "e45baac8253fa7fe"
  },
  {
   "metadata": {
    "ExecuteTime": {
     "end_time": "2024-12-02T10:45:36.019624Z",
     "start_time": "2024-12-02T10:45:36.011909Z"
    }
   },
   "cell_type": "code",
   "source": [
    "with(open(\"stopwoorden.txt\", \"r\")) as file:\n",
    "    stopwoorden = [line.strip() for line in file if line]\n",
    "    \n",
    "def preprocess_sentence(sentence):\n",
    "    sentence = \" \".join([word for word in sentence.split() if word not in stopwoorden])\n",
    "    sentence = \"\".join([letter for letter in sentence if letter not in \"/..\\',\\\":;()\"])\n",
    "    return sentence\n"
   ],
   "id": "452f01253e959f09",
   "outputs": [],
   "execution_count": 99
  },
  {
   "metadata": {},
   "cell_type": "markdown",
   "source": "Roep nu de functie preprocess_data aan met alle zinnen uit data. Sla het resultaat op in een nieuwe variabele (bijvoorbeeld sentences of corpus). Deze variabele is je corpus.",
   "id": "356496bc8a97260c"
  },
  {
   "metadata": {
    "ExecuteTime": {
     "end_time": "2024-12-02T10:45:36.089597Z",
     "start_time": "2024-12-02T10:45:36.067915Z"
    }
   },
   "cell_type": "code",
   "source": "corpus  = [preprocess_sentence(sentence) for sentence in wiki_text]",
   "id": "e2885509477c53db",
   "outputs": [],
   "execution_count": 100
  },
  {
   "metadata": {},
   "cell_type": "markdown",
   "source": "Een tweede stap die we moeten zetten is het samenstellen van het vocabulaire: de woorden waaruit onze zinnen zijn samengesteld (net zoals het Nederlandse woordenboek alle woorden bevat waaruit alle Nederlandse zinnen zijn samengesteld). Sla dit op in een tweede variabele (standaard heet dat ding vocab). Als het goed is, zijn er 717 woorden in je vocabulaire.",
   "id": "e57c5305e0689633"
  },
  {
   "metadata": {
    "ExecuteTime": {
     "end_time": "2024-12-02T10:45:36.195114Z",
     "start_time": "2024-12-02T10:45:36.188102Z"
    }
   },
   "cell_type": "code",
   "source": [
    "vocab = list(set(\"\".join(corpus).split()))\n",
    "print(f\"vocab len: {len(vocab)}\")\n",
    "print(vocab)"
   ],
   "id": "4f734bcf154c627d",
   "outputs": [
    {
     "name": "stdout",
     "output_type": "stream",
     "text": [
      "vocab len: 874\n",
      "['ingevoegd', 'lymfotroop', 'is', 'stollingsafwijkingenhuidafwijkingenkoorts', 'celdelingIndien', 'bedrijf', 'zorg', 'Genentech', 'directe', 'Kanker', 'benaderingen', 'markt', 'Celsus[1]BetekenisKanker', 'pylori', 'carcinogenenDe', 'kankervormen', 'neoplasie', 'beschadigde', 'bronchuscarcinoomaromatische', 'maagkankerhet', 'signalenBeide', 'celdeling', 'twee', 'sunitinib', 'verwijderen', 'omgezet', 'vernietigen', 'zonlicht', 'succesvolle', 'celdifferentiatieDeze', 'omliggend', 'teveel', 'regelengenen', 'onttrokken', 'gebied', 'röntgenfoto’s', 'niet-ioniserend', 'optreden', 'oorzakelijk', 'zon', 'IARCNational', 'leeftOok', 'kankerVrouwen', 'besmet', 'verlammingen', 'atoombom', 'muurkanker', 'metastaseren', 'angstige', 'bovengenoemde', 'preventief', 'moeten', 'activerenHet', 'remmende', 'genereren', 'spierafwijkingenbloed-', 'belangrijk', 'orgaan', 'geneesmiddelen', 'defecten', 'gevorderde', 'Enkele', 'stimuleren', 'and', 'combinatie', 'verschillende', 'intracellulaire', 'vernietiging', 'groeiregeling', 'chromosomen', 'gezonde', 'HTLV1', 'puntmutatie', 'diagnostiek', 'toeneemtMutaties', 'veroorzaakt', 'oncogenEen', 'aangaan', 'zijnalvleesklierkankerbaarmoederhalskankerblaaskankerneuroblastoomhersentumorlymfomenleukemiebotkankerhuidkankermaagkankerneus-', 'puncties', '80', 'brandwonden', 'onderzoekImmunotherapie', 'omvang', 'kiemcellenHoewel', 'symptomen', 'mutatiesDat', 'reciproque', 'Romeinse', 'hersteldDaardoor', 'opnamesnelheid', 'zelf', 'belangrijke', 'cervixkankerInfectie', 'methoden', 'bestaande', 'bevacizumab', 'gezwellenDeze', 'delenBij', 'actiever', 'nieuwgroei', 'sorafenib', 'mechanismen', 'wordenSommige', 'medisch', 'oncogenen', 'ontstaan', 'zeer', 'pijnstillersTumorcellen', 'niveau', 'vervangen', 'mogelijke', 'externe', 'aandoening', 'cellen', 'preventie', 'groeienDe', 'Sutent', 'uiteindelijk', 'inwendige', 'gedragen', 'kenmerken', 'behandelingenof', 'chirurgisch', 'pathologisch', 'DNAWe', 'schokkender', 'infiltreren', 'zenuwbanen', 'Erasmus', 'curatief', 'specialisten', 'maligne', 'BelgiëOrganisation', 'betonkanker', 'drukken', 'voorstadium', 'cervix', 'kankerKankercellen', 'dergelijke', 'voorbeeld', 'Treatment', 'operatieve', 'onderzoeken', 'daadwerkelijk', 'zelfs', 'kankers', 'nierkankerBehalve', 'goedaardige', 'DNA', 'voortbrengtVoorbeelden', 'naald', 'terechtkomen', 'Latijn', 'eiwittenDit', 'genetisch', 'voorkomt', 'fruit', 'geneeskundig', 'stofwisseling', 'hebben', 'isBinnen', 'zwellingen', 'opwekkenDat', 'sneller', 'regelenKanker', 'sommigen', 'treedt', 'blaaskankerVan', 'meerdere', 'merkelcelpolyomavirus', 'liggen', 'breuken', 'metastasen', 'histologieDit', 'delenEr', 'delen', 'normaal', 'DNAChemische', 'genezing', 'groeistimulatieDe', 'nieuwe', 'wetenschappelijk', 'gestolen', 'kankergevallen', 'gekoppelde', 'geblokkeerde', 'kanker', 'zenuwcellen', 'overlijden', 'differentiatie', 'epilepsieAls', 'gevoeligheid', 'gereduceerd', 'uitwendige', 'cytologie', 'verspreiden', 'wijze', 'kopieën', 'verminderde', 'afBij', 'middelen', 'noemen', 'passage', 'reverse', 'hand', 'voorkomenMutaties', 'oorzakenCentraal', 'uiter', 'neurologische', 'syndromen', 'overgewicht', 'mond', 'omgevormd', 'afhankelijk', 'enof', 'vernieuwing', 'moleculen', 'intensiteit', 'oncogenenHet', 'carcinogeen', 'leukemie', 'genenHet', 'overgeërfd', 'complexe', 'gebruikt', 'structuren', 'verzachtende', 'neoplasmata', 'termen', 'rook', 'betrokkenheid', 'behandelingsoptieschirurgieradiotherapiehyperthermiechemotherapie', 'alcohol', 'Institutes', 'schimmels', 'uitgeschakeld', 'herstel', 'vlees', 'opwekken', 'vermenigvuldigen', 'cytostaticaAfhankelijk', 'zelfvernietigingsmechanisme', 'effecten', 'effectenDat', 'biologische', 'bacteriën', 'voldoende', 'gezond', 'verwijderd', '2016', 'ioniserende', 'respectievelijk', 'bestreden', 'misselijkheid', 'mate', 'celproliferatie', 'zijnHierbij', 'gevaarlijk', 'chemicaliën', 'voordeel', 'type', 'lichaamsdelen', 'inmiddels', 'radiotherapieIn', 'beschouwd', 'behulp', 'Herceptin', 'dragers', 'jongeren', 'ovariumcarcinoomVerschillende', 'on', 'limiet', 'malignum', 'gewoonlijk', 'X-stralen', 'hormoonproductiehersen-', 'deling', 'rituximab', 'algemene', 'aanhoudende', 'draagster', 'therapeutisch', 'functioneert', 'celdelingDe', 'roken', 'ongecontroleerde', 'specialismen', 'tumorcellen', 'Nederland', 'luchtvervuiling', 'experimentele', 'tumorcelnetwerken', 'weefselEventueel', 'promutagenen', 'kankerOok', 'research', 'aminen', 'botten', 'laatste', 'enzymen', 'grond', 'belangproto-oncogenentumorsuppressorgenengenen', 'Organisation', 'kankergezwel', 'zorgvuldige', 'heelal', 'mogelijkhedenMaar', 'verhoogde', 'lymfogene', 'toenemen', 'mutatiefrequentie', 'geslachtshormonen', 'aanleiding', 'schakel', 'inzichten[6]Preventie', 'bevordertAlcohol', 'grote', 'genmutaties', 'verlorenEr', 'wisselen', 'bijvoorbeeld', 'organen', 'bacterie', 'Cancer', 'papillomavirus', 'bloed-', 'kankerBij', 'mensen', 'genmutatiesEr', 'patiënt', 'plaatsen', 'communicerenRecent', 'oorzakenGenmutaties', 'ingeburgerd', 'frequent', 'lichaamsholten', 'transcriptie', 'Nexavar', 'beschadigenEnerzijds', 'behandeling', 'overige', 'bepaalde', 'borsten', 'MC', 'verbonden', 'verklaren', 'gevolg', 'materiaal', 'maligneBloedverlies', 'onbeperkte', 'vaginale', 'overgegaan', 'peniscarcinoomschistosomiasis', '-', 'palliatie', 'kleine', 'Bayer', 'Agency', 'het', 'borstkanker', 'levensstijlNiet', 'mogelijk', 'werking', 'preventieve', 'Mabthera', 'verzachten', 'celdelingen', 'bloedaanmaak', 'genitale', 'nieuw', 'stralen', 'waaronderverhoogde', 'FECSJules', 'meest', 'cervixcarcinoom', 'groeifactoren', 'verhoogt', 'invloed', 'gefrituurd', 'ontvangen', 'versterkenmedicamenten', 'gedragenTumorsuppressorgenenDeze', 'lichaamscellen', 'aanwezigheid', '–', 'chronische', 'behandelmogelijkheid', 'ook', 'gaatBij', 'omliggende', 'ongeveer', 'stoppen', 'cancer', 'voedsel', 'lichaamEr', 'mutatie', 'nodig', 'immunotherapieDeze', 'elektrisch', 'onmogelijk', 'aandoeningenDeze', 'fouten', 'geval', 'eierstokkankerVrouwen', 'promotor-regio', 'hart-', 'proces', 'langerBij', 'maar', 'aantal', 'eetlustNaast', 'gekeken', 'invloeden', 'mutagene', 'aanwenden', 'oncogen', 'schildklierkanker', 'darmkanker', 'nietIndien', 'uitgezonderd', 'energie', 'achttien', 'oestrogeen', 'derivaat', 'EORTCInternational', 'verhoogd', 'opgegeven', 'groente', 'middel', 'aangelegd', 'neoplasma', 'gesproken', 'belemmeren', 'zwellingEen', 'beeldvormend', 'leeftijd', 'bloedarmoede', 'mogelijkpalliatieve', 'uitzaaiing', 'verkregen', 'regulerende', 'ontstaanMaar', '90%', 'leidenPreventie', 'ernstige', 'vermagering', 'praktijk', 'delenWanneer', 'rood', 'schelden', 'Latijnse', 'verf', 'plaats', 'lymfevaten', 'familieledenIn', 'indirecter', 'onco-gen', 'weefsel', 'één', 'geworden', 'paraneoplastische', 'schildklier', 'voorbeelden', 'richten', 'groeibevorderende', 'kankerverwekkende', 'fusiegen', 'grootte', 'brengenBij', 'aanwezig', 'expressie', 'humaan', 'infiltratiede', 'bepaaldMedische', 'steunweefselmaligne', 'war', 'bestaan', 'tumorweefsel', 'bijklank', 'activeertHet', 'vijf', 'betekenis', 'gekenmerkt', 'gronde', 'voorkomenDe', 'uitzaaiingenwordt', 'aanbevelingen', 'kijkenWanneer', 'hormonen', 'invasiede', 'productie', 'aanzienlijk', 'European', 'beperkenDit', 'chemotherapie', 'leidt', '50%', 'bloedvaten', 'for', 'terechtkomenEpidemiologie', 'betonrot', '2008', 'besluiten', 'verwijderenenof', 'longkanker', 'non-hodgkinlymfoomPfizer', 'aanmaak', 'pijnstilling', 'oncologie', 'ontlasting', 'netwerkDaarbij', 'verband', 'vermijden', 'enhancers', 'signaalstoffen', 'kwaadaardig', 'tumoren', 'onderscheid', 'somamutatie', 'ziekte', 'stoffen', 'Hayflick-limiet', 'Avastin', 'herstellen', 'behandelmethoden', 'eventueel', 'overweging', 'aanleg', 'onbeheerste', 'risico', 'taalKanker', 'chirurgie', 'werkingBij', 'factorenPathologieEr', 'voortschrijdt', 'kankerpromotoren', 'tumorsuppressorgenen', 'DNA-kopieDe', 'kankerstimulerend', 'hersentumorenAndere', 'zogeheten', 'overgeërfde', 'Grieks', 'co-mutagenen', 'jaar', 'communiceren', 'eiwitten', 'of', 'werken', 'effect', 'DNA-herstelgen', 'benigne', 'balans', 'kan', 'kans', 'vermijdenTumorcellen', 'bewegen', 'CervarixOnderzoekinstitutenEuropean', 'mannen', 'vande', 'kinderen', 'afstandUiteindelijk', 'bezighouden', 'Research', 'volgende', 'soorten', 'gen', 'hangt', 'longkankerKankersoorten', 'aangetoond', 'helicobacter', 'genen', 'stimulerende', 'godverdommeIn', 'zorgen', 'bijwerkingen', 'planten', 'ladenDit', 'Amerikaanse', 'ontregeling', 'bouw', 'tumorkoortscachexie', 'omgeving', 'chromosoom', 'invloedenSommige', 'vulva', 'kankerOm', 'papilloma-virus', 'uitgroeien', 'behandelingstraject', 'verstoring', 'buikholteNagenoeg', 'verwijderingVaak', 'verantwoordelijk', 'tumorencarcinomen', 'werkenStralingOok', 'straling', 'keelkankernefroblastoomnierkankerteelbalkankervulvakankerPathogenese', 'pathogenese', 'leukemieDoor', 'zijnasbest', 'zijn', 'uitzaaien', 'kankerregistratie', 'Universiteit', 'ontdekte', 'zichBij', 'cellenWanneer', 'principe', 'remedie', '60', 'uitgeschakeldWanneer', 'zenuw-', 'kankercellen', 'proto-oncogen', 'verbinding', 'leverkanker', 'hoesten', 'genezingAnderzijds', 'DNA-sequenties', 'muurschimmel', 'ontwikkelend', 'ontsnappen', 'carcinogenen', 'lymfeweefselblastomen', 'extracellulaire', 'kosmische', 'ontstaanRNA-retrovirussen', 'onafhankelijk', 'ontaarde', 'mogelijkAllereerst', 'mutaties', 'groei', 'jonge', 'groeiremmende', 'verbrand', 'onderzoek', 'deshormoon', 'verwijderenHierbij', 'scheldwoord', 'zelfPreventie', 'kwaadaardige', 'zijnhumaan', 'hematogene', 'nieuwgevormd', 'hyper-methylering', 'Bordet', 'zijnTijdens', '1', 'veroorzaken', 'betrokken', 'gedoseerde', 'apoptose', 'virussen', 'verwordt', 'vervolgens', 'NKIFederation', 'mutageen', 'DNA-repairgenen', 'bloed', 'tumorsuppressorgenenBij', 'teweegbrengenVirussen', 'ziekteverwekkers', 'Gardasil', 'evenwicht', 'minder', 'vijfjarige', 'vóórkomenIn', 'trastuzumab', 'klinische', 'liggenHierdoor', 'darm', 'kankerHet', 'zekerheid', 'OECI[7]In', 'NederlandEtymologieHet', 'beenmerg', 'wordenAls', 'lokaal', 'volledige', 'doorpijnstillers', 'makenZo', 'schade', 'reguleren', 'angiogenesede', 'gentherapie', 'pathologie', 'onbeheerst', 'amplificatie', 'Nederlandse', 'signalen', 'stollingsstoornissenKanker', 'metastasering', 'dringen', 'behandelingstechnieken', 'wederzijdse', 'regel-genen', 'lymfestroom', 'beïnvloedenVirussen', 'vroege', 'klassiek', 'lichaam', 'behandelingen', 'wrattenVaccinatie', 'ongebreideld', 'kanker[4]', 'fysische', 'volgen', 'weefselkiemceltumoren', 'opdrijvenLet', 'lymfeklieren', 'doodsoorzaakKishan', 'typen', 'blaascarcinoomEpstein-Barrvirus', 'onsterfelijk', 'genomenHierdoor', 'therapieën', 'Institute', 'translocatie', 'worden', 'overmatige', 'onderzoekDe', 'gemuteerde', 'carcinogenenVoorbeelden', 'metastaseringde', 'mogelijkheid', 'vaatziekten', 'wettelijk', 'sturen', 'bleek', 'regelmatig', 'medische', 'ontwikkeld', 'oncologieDe', 'bevorderen', 'Societies', 'uitgebreid', 'opiaten', 'lymfomen', 'burkittlymfoom', 'golflengte', 'zonlichtGenetische', 'Instituut', 'veroorzakenDeze', 'virus', 'blootstelling', 'stof', 'gelegen', 'gammastralen', 'genProto-oncogenenProto-oncogenen', 'curatie', 'groeiremmersWanneer', 'zullen', 'energie-inhoud', 'oncogenenDit', 'tegenstelling', 'genenNaarmate', 'waarschuwingssymptomenDe', 'indien', 'zeggen', 'burkittlymfoomde', 'DNA-repair', 'tepel', 'problemen', 'Naipal', 'merkelcelcarcinoomRoken', 'functie', 'kankerproces', 'oorspronkelijke', 'regulatie', 'invasieve', 'myeloïde', 'encyclopedieschrijver', 'doordat', 'beschadigenBovendien', 'opgetredenVerder', 'proto-oncogenen', 'huidkanker', 'opgespoord', 'zo’n', 'cel', 'erfelijke', 'HerceptinVoorbeelden', 'gezwellen', 'samenspel', 'mesothelioombenzopyreen', 'darmkankerBij', 'urine', 'oncologische', 'vergrotenAndere', 'celwoekering', 'omringende', 'waardoornieuwe', 'onderdeel', 'effectiever', 'middels', 'onrechtstreeks', 'factoren', 'bestraling', 'zowel', 'cellulaire', 'di-ethylstilbestrol', 'nierkanker', 'beschadigd', 'isBij', 'ontwikkeling', 'T-cel', 'obstipatie', 'chemische', 'doende', 'verminderenEr', 'tumor', 'eten', 'familie', 'USANederlands', 'vanuit', 'anorexie', 'zenuwen', 'voornamelijk', 'prostaatkanker', 'gebruiktDe', 'uitoefenenInwendige', 'uv-stralen', 'normale', 'voldoen', 'abnormaal', 'virale', 'doelencuratie', 'voorkomen', 'vraagt', 'consumptie', 'rechtstreekse', 'actief', 'genoemd', 'overleven', 'voor', 'gezwel', 'specifieke', 'groot', 'invasie', 'ruggenmerg', 'Philadelphiachromosoom', 'ontstaanEr', 'epitheelsarcomen', 'operatief', '108Het', 'woekerende', 'pijn', 'rechtstreeks', 'delingApoptose-genenWanneer', 'hersentumoren', 'delende', 'palliatieve', 'medicamenten', 'oefent', 'geconcentreerde', 'ontwikkelingNaast', 'regulering', 'prolifereren', 'intensieve', 'teweegbrengenDe', 'nauwelijks', 'afkomstige', 'patiënten', 'kankerVan', 'verandering', 'genomen', 'laag', 'vrouwen', 'samensmelting', 'plaatsvindt', 'verdwijnenNaast', 'celdelingGezonde']\n"
     ]
    }
   ],
   "execution_count": 101
  },
  {
   "metadata": {},
   "cell_type": "markdown",
   "source": [
    "# Stap 2: CBOW paren aanmaken\n",
    "Maak nu een functie create_pairs die alle zinnen uit het corpus meekrijgt (corpus), en een parameter (w_size) die aangeeft hoe groot het window moet zijn waarmee het algoritme door het corpus loopt (2, in het voorbeeld hierboven). Deze functie loopt per zin met stappen van w_size over de woorden w van de zin heen. Elke iteratie worden de w_size aan de linkerkant én aan de rechterkant van het woord w als context (als input als het ware) gezien en het woord w zelf als output (zie eventueel de beschrijving hierboven). Sla uiteindelijk alle contexten op in een matrix X en alle woorden w in een vector y. Retourneer X en y."
   ],
   "id": "89777654628bc0af"
  },
  {
   "metadata": {
    "ExecuteTime": {
     "end_time": "2024-12-02T10:45:36.363367Z",
     "start_time": "2024-12-02T10:45:36.344225Z"
    }
   },
   "cell_type": "code",
   "source": [
    "def create_pairs(corpus, w_size):\n",
    "    X = []\n",
    "    y = []\n",
    "    for sentence in corpus: # per zin\n",
    "        sentence = sentence.split()\n",
    "        for i in range(w_size, len(sentence) - w_size - 1): # per woord\n",
    "            contex = []\n",
    "            for j in range(w_size * 2 +1): # context index\n",
    "                if j -w_size != 0: # niet y woord\n",
    "                    contex.append(sentence[i + j -w_size])\n",
    "            \n",
    "            X.append([contex])\n",
    "            y.append([sentence[i]])\n",
    "    return X, y\n",
    "            \n",
    "x , y = create_pairs(corpus, 2)\n",
    "\n",
    "print(corpus[0])\n",
    "print(x[0])\n",
    "print(y[0])\n",
    "        "
   ],
   "id": "34d31453ce31d90c",
   "outputs": [
    {
     "name": "stdout",
     "output_type": "stream",
     "text": [
      "Kanker medisch Latijn neoplasma malignum kwaadaardig nieuwgevormd weefsel ziekte uiter cellen onbeheerst vermenigvuldigen doende woekerende cellen omliggend weefsel richten schade invasieve groei infiltratiede woekerende cellen verspreiden plaatsen lichaam metastasering uitzaaiing lymfevaten lymfogene metastasering bloed hematogene metastasering verschillende lichaamsholten bijvoorbeeld buikholte\n",
      "[['Kanker', 'medisch', 'neoplasma', 'malignum']]\n",
      "['Latijn']\n"
     ]
    }
   ],
   "execution_count": 102
  },
  {
   "metadata": {
    "ExecuteTime": {
     "end_time": "2024-12-02T10:45:36.431546Z",
     "start_time": "2024-12-02T10:45:36.428200Z"
    }
   },
   "cell_type": "code",
   "source": "",
   "id": "b30f983e568a711c",
   "outputs": [],
   "execution_count": null
  }
 ],
 "metadata": {
  "kernelspec": {
   "display_name": "Python 3",
   "language": "python",
   "name": "python3"
  },
  "language_info": {
   "codemirror_mode": {
    "name": "ipython",
    "version": 2
   },
   "file_extension": ".py",
   "mimetype": "text/x-python",
   "name": "python",
   "nbconvert_exporter": "python",
   "pygments_lexer": "ipython2",
   "version": "2.7.6"
  }
 },
 "nbformat": 4,
 "nbformat_minor": 5
}
