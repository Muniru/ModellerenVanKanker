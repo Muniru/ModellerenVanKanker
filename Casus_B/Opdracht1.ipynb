{
 "cells": [
  {
   "metadata": {},
   "cell_type": "markdown",
   "source": [
    "# Opdracht\n",
    "\n",
    "Het probleem van de bovenstaande uitwerking is natuurlijk dat de voorspellingen geen enkele relatie vertonen met datgene wat ervoor is gebeurd. Als je in een stuk tekst een volgende letter wilt voorspellen, moet je de voorafgaande tekst in je voorspelling meenemen. In het geval van digrammen zou je dan de twee letters als input (je key) moeten nemen en de daaropvolgende letter als output (je value). Zie het onderstaande plaatje:\n",
    "\n",
    "Maak een klasse `NGramModel` die in de initializer een getal meekrijgt waarmee je het aantal letters waar de sleutel uit bestaat kunt instellen (in het voorbeeld hierboven is dat `2`). Voorzie deze klasse van\n"
   ],
   "id": "3eeecd8bec22c814"
  },
  {
   "metadata": {
    "ExecuteTime": {
     "end_time": "2024-11-28T08:52:10.037580Z",
     "start_time": "2024-11-28T08:52:10.025522Z"
    }
   },
   "cell_type": "code",
   "source": [
    "from NGramModel import NGramModel \n",
    "import pprint\n",
    "\n",
    "model = NGramModel(2)\n",
    "model.fit(\"weten welke wet geldt\")\n",
    "pprint.pprint(model.model_)"
   ],
   "id": "fa757b8bae58ab2e",
   "outputs": [
    {
     "name": "stdout",
     "output_type": "stream",
     "text": [
      "{' g': {'e': 1},\n",
      " ' w': {'e': 2},\n",
      " 'e ': {'w': 1},\n",
      " 'el': {'d': 1, 'k': 1},\n",
      " 'en': {' ': 1},\n",
      " 'et': {' ': 1, 'e': 1},\n",
      " 'ge': {'l': 1},\n",
      " 'ke': {' ': 1},\n",
      " 'ld': {'t': 1},\n",
      " 'lk': {'e': 1},\n",
      " 'n ': {'w': 1},\n",
      " 't ': {'g': 1},\n",
      " 'te': {'n': 1},\n",
      " 'we': {'l': 1, 't': 2}}\n"
     ]
    }
   ],
   "execution_count": 23
  },
  {
   "metadata": {},
   "cell_type": "markdown",
   "source": [
    "```\n",
    "for _ in range(40):\n",
    "    woordlengte = int(np.random.choice(np.arange(len(woordenfreqs)), p=woordenfreqs) / 2)\n",
    "    for _ in range(woordlengte):\n",
    "        num = np.random.choice(np.arange(len(ddf)), p=ddf['percentage']/100)\n",
    "        result += ddf.loc[num]['digram']    \n",
    "    result += ' '\n",
    "```\n",
    "Maak een methode predict_proba(key) die op basis van de meegegeven key van n letters alle mogelijke letters met hun waarschijnlijkheid teruggeeft.\n",
    "\n",
    "Maak tenslotte een methode predict(seed, length) die op basis van de gegeven seed een stuk tekst teruggeeft met lengte length. Zorg er dus voor dat je de waarschijnlijkheid van de volgende letter gebruikt als distributie (gebruik de parameter p in numpy.random.choice()).\n",
    "\n",
    "Maak gebruik van de voorbeeldcode hierboven om deze functionaliteit te realiseren."
   ],
   "id": "60e39b37d86a401b"
  },
  {
   "metadata": {
    "ExecuteTime": {
     "end_time": "2024-11-28T08:52:10.200453Z",
     "start_time": "2024-11-28T08:52:10.144903Z"
    }
   },
   "cell_type": "code",
   "source": [
    "with open(\"wiki.txt\", 'r') as file:\n",
    "        wiki_text = \"\".join(line.strip() for line in file)\n",
    "\n",
    "model = NGramModel(4)\n",
    "model.fit(wiki_text)\n",
    "\n",
    "x = model.predict(\"Tostie\", 300)\n",
    "print(x)"
   ],
   "id": "a6d1dd2096867f6b",
   "outputs": [
    {
     "name": "stdout",
     "output_type": "stream",
     "text": [
      "Tostiek heeft betekenmerg kunnen daardige genen. Het onttrokken het chirurgie eerstimulatie);de ontdekt dat zekerhet DNA-hersen-, ze de genen, genen. Een tot goedaardig is. Een onderen in de onde ency for Research als genese (oorzaken, en bij het humaan erfelijk verbaarmoeden. In de risico gevallen,\n"
     ]
    }
   ],
   "execution_count": 24
  }
 ],
 "metadata": {
  "kernelspec": {
   "display_name": "Python 3",
   "language": "python",
   "name": "python3"
  },
  "language_info": {
   "codemirror_mode": {
    "name": "ipython",
    "version": 2
   },
   "file_extension": ".py",
   "mimetype": "text/x-python",
   "name": "python",
   "nbconvert_exporter": "python",
   "pygments_lexer": "ipython2",
   "version": "2.7.6"
  }
 },
 "nbformat": 4,
 "nbformat_minor": 5
}
