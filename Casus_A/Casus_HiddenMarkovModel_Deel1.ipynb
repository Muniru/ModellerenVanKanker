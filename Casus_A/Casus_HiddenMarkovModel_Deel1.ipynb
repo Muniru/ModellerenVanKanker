{
 "cells": [
  {
   "cell_type": "markdown",
   "id": "48d65ba9",
   "metadata": {},
   "source": [
    "# <span id=\"0\">Casus *Hidden Markov Model* - Deel I</span>\n",
    "\n",
    "Inhoud:\n",
    "\n",
    "* **<a href=\"#1\">CpG-islands (CGIs)</a>**\n",
    "\n",
    "* **<a href=\"#2\">Hidden Markov Models</a>**\n",
    "\n",
    "* **<a href=\"#3\">CpG-eiland en non-CpG-eiland sequenties</a>**\n",
    "\n",
    "* **<a href=\"#4\">Toy-data</a>**\n",
    "\n",
    "* **<a href=\"#5\">Je eigen `HiddenMarkovModel` class</a>**"
   ]
  },
  {
   "cell_type": "code",
   "id": "a2f4078b",
   "metadata": {
    "ExecuteTime": {
     "end_time": "2024-11-20T20:31:39.861139Z",
     "start_time": "2024-11-20T20:31:39.803363Z"
    }
   },
   "source": [
    "%matplotlib inline\n",
    "%reload_ext autoreload\n",
    "%autoreload 2\n",
    "\n",
    "from matplotlib import pyplot as plt\n",
    "import numpy as np"
   ],
   "outputs": [],
   "execution_count": 2
  },
  {
   "cell_type": "markdown",
   "id": "99fbf2f4",
   "metadata": {},
   "source": [
    "<a id=\"1\" href=\"#0\" style=\"text-align: right; display: block;\">Terug naar boven</a>\n",
    "\n",
    "### CpG-islands (CGIs)\n",
    "\n",
    "CpG-eilandjes zijn elementen in het genoom die een grote invloed uitoefenen op de regulatie van genexpressie door DNA-methylatie. Hun rol in kankerontwikkeling door abnormale methylatie van tumorsuppressorgenen en oncogenen maakt het een doelwit voor diagnostische en therapeutische benaderingen. Begrip van de dynamiek van CpG-eilandjes biedt inzicht in de moleculaire mechanismen van kanker en mogelijkheden voor innovatieve behandelingsstrategieën.\n",
    "\n",
    "CpG-eilandjes zijn gebieden in het DNA die een hoge dichtheid hebben aan CpG-dinucleotiden, waarbij \"CpG\" staat voor een cytosine nucleotide (C) gevolgd door een guanine nucleotide (G) verbonden door een fosfaatgroep (p). Deze eilanden zijn meestal ongewoon rijk aan de CG-combinatie en bevatten vaak geen gemethyleerde cytosines, wat hen onderscheidt van de rest van het genoom waar CpG dinucleotiden vaak gemethyleerd zijn en daardoor minder frequent voorkomen. CpG-eilandjes komen vaak voor in of nabij de promotorregio's van genen, die de expressie van de corresponderende genen reguleren. Ze zijn typisch een paar honderd tot een paar duizend basenparen lang en hebben een GC-gehalte van meer dan 50%, met een CpG-dichtheid hoger dan wat gemiddeld is voor het genoom.\n",
    "\n",
    "CpG-eilandjes spelen een cruciale rol bij de regulatie van genexpressie via hun invloed op DNA-methylatie, een epigenetisch mechanisme. Dit proces voegt een methylgroep toe aan het cytosine-residu in CpG-dinucleotiden, meestal door de werking van DNA-methyltransferasen. In promotorregio's is methylatie vaak geassocieerd met gen-silencing omdat het de binding van transcriptiefactoren en andere noodzakelijke eiwitten voor genexpressie ontmoedigt. Omgekeerd kan het demethyleren van CpG-eilandjes de expressie van geassocieerde genen activeren, aangezien het de toegankelijkheid van transcriptiefactoren en RNA-polymerase vergroot.\n",
    "\n",
    "<img src=\"https://media.licdn.com/dms/image/D4D22AQEdqGnu8ZC80Q/feedshare-shrink_2048_1536/0/1684682580953?e=2147483647&v=beta&t=r6jlPalFOi_YDqJ_tBSPkdZRlvfakvmH1DVf9bnTTEk\" width=\"40%\" heigth=\"40%\" />\n",
    "\n",
    "De epigenetische modificatie van CpG-eilandjes speelt een belangrijke rol in kankerontwikkeling door abnormale genexpressie. In kankercellen worden CpG-eilandjes in de promotorregio's van tumorsuppressorgenen vaak hypergemethyleerd. Dit leidt tot silencing van deze genen, wat bijdraagt aan ongecontroleerde celgroei en proliferatie. Voorbeelden van tumorsuppressorgenen die vaak gehypermethyleerd zijn in kanker omvatten *p16INK4a* en *BRCA1*. Globale hypomethylatie van het genoom kan ook voorkomen in kankercellen, wat resulteert in genomische instabiliteit en de activatie van oncogenen. Dit draagt bij aan tumorvorming en -progressie.\n",
    "\n",
    "Abnormale methylatiepatronen van CpG-eilandjes kunnen dienen als biomarkers voor de vroege detectie en diagnose van kanker. Epigenetische therapieën, zoals DNA-methylatie-inhibitoren (bijv. azacitidine en decitabine), worden gebruikt om abnormale methylatie om te keren en de normale expressie van tumorsuppressorgenen te herstellen.\n",
    "\n",
    "Bekijk onderstaande inleidende video en schrijf er een samenvatting van. Zoek zo nodig zelf uitgebreidere achtergrondinformatie over onbekende onderwerpen en vermeld deze bronnen in je samenvatting als referenties. Neem onder andere de bijbehorende [Wikipedia](https://en.wikipedia.org/wiki/CpG_site) pagina door."
   ]
  },
  {
   "cell_type": "code",
   "execution_count": 2,
   "id": "bf4d72b2",
   "metadata": {
    "scrolled": true
   },
   "outputs": [
    {
     "data": {
      "text/html": [
       "<iframe width=\"560\" height=\"315\" src=\"https://www.youtube.com/embed/bc3wtVXyAXo\" title=\"YouTube video player\" frameborder=\"0\" allow=\"accelerometer; autoplay; clipboard-write; encrypted-media; gyroscope; picture-in-picture; web-share\" referrerpolicy=\"strict-origin-when-cross-origin\" allowfullscreen></iframe>\n"
      ],
      "text/plain": [
       "<IPython.core.display.HTML object>"
      ]
     },
     "metadata": {},
     "output_type": "display_data"
    }
   ],
   "source": [
    "%%html\n",
    "<iframe width=\"560\" height=\"315\" src=\"https://www.youtube.com/embed/bc3wtVXyAXo\" title=\"YouTube video player\" frameborder=\"0\" allow=\"accelerometer; autoplay; clipboard-write; encrypted-media; gyroscope; picture-in-picture; web-share\" referrerpolicy=\"strict-origin-when-cross-origin\" allowfullscreen></iframe>"
   ]
  },
  {
   "cell_type": "markdown",
   "id": "94262f0d",
   "metadata": {},
   "source": [
    "# UITWERKING\n",
    "\n",
    "\n",
    "Cpg sites zijn dna regio's in het dna waat cytosine wordt gevolgd door een guanine in de 5'-3' richting. Met willekeurige kans zou deze combinatiefrequentie 1/16 keer voor moetn komen echter in gewervelden is dit 1/100. De reden hiervoor is deaminatie. Deze veel voorkomende mutatie van het dna zorgt ervoor dat cytosine, doormiddel van water, wordt omgezet in urasil; Vaker als deze wordt gevold door een Guanine. Dit probleem lost urasil-dna glycosylase efficient op en vormt zelden een probleem. Maar met een gemethyleerde cytosine krijg je een thymine. Dit is ook op te lossen door thymine-dna glycosylase alleen die is erg traag. Waardoor het dna hogere kans krijgt de mutatie te dubliceren en het niet meer is terug te draaien. \n",
    "\n",
    "Het is dus onwenselijk om gc rijke regio's te methyleren. Maar de regio's bestaan wel. voornamelijk op gebieden waar amper methylatie plaats vind, met name promoter regio's. Dit zijn zogeheten cpg eilanden. Ze komen voor in de promotor regio's aangezien die niet vaak gemethyleerd worden. \n",
    "\n",
    "Bij kanker komt kan het voorkomen dat er methylatie plaatsvind op promotors voor houshoudgenen of oncogenen. Ook is het mogelijk dat er hypermethylatie plaats vind. \n",
    "\n"
   ]
  },
  {
   "cell_type": "markdown",
   "id": "327f0896",
   "metadata": {},
   "source": [
    "<a id=\"2\" href=\"#0\" style=\"text-align: right; display: block;\">Terug naar boven</a>\n",
    "\n",
    "### Hidden Markov Models\n",
    "\n",
    "CpG-eilandjes kunnen worden gedetecteerd met behulp van verschillende computationele methoden, waarvan een van de meest effectieve methoden het gebruik van Hidden Markov Models (HMMs) is.\n",
    "\n",
    "Een Hidden Markov Model is een krachtig hulpmiddel voor het modelleren van tijdreeksen en sequentiële data waarin de werkelijke toestanden niet direct zichtbaar zijn, maar waar de uitkomsten afhankelijk zijn van deze toestanden. HMMs maken gebruik van probabilistische berekeningen om te schatten welke verborgen toestanden het meest waarschijnlijk zijn gegeven de waargenomen data, wat ze tot een waardevol instrument maakt in een breed scala aan toepassingen. HMMs worden breed toegepast in verschillende domeinen van de bioinformatica, maar ook bijvoorbeeld in spraakherkenning en natuurlijke taalverwerking of financiële modellering van markttendensen.\n",
    "\n",
    "Hidden Markov Models zijn zeer geschikt voor de detectie van CpG-eilandjes vanwege hun vermogen om sequenties te modelleren en patronen te herkennen in biologische data. In het kader van CpG-eilandjes vormen de verschillende nucleotiden in het DNA de waargenomen data, en is de aanwezigheid van een CpG-eiland, al dan niet, de verborgen toestand. Door het toepassen van HMMs kunnen wetenschappers efficiënt de locatie van CpG-eilandjes bepalen, wat waardevolle inzichten biedt in genregulatie en kankeronderzoek.\n",
    "\n",
    "<img src=\"https://www.researchgate.net/profile/Tomer-Toledo/publication/245563174/figure/fig1/AS:669081116094471@1536532777801/State-transition-diagram-of-a-hidden-Markov-model.png\" width=\"40%\" height=\"40%\" />\n",
    "\n",
    "Een HMM wordt gekarakteriseerd door de volgende eigenschappen:\n",
    "\n",
    "* **Toestanden / States** Een gegeven aantal verschillende verborgen interne toestanden waarin een geobserveerd systeem zich kan bevinden. In de context van CpG-eilandjesdetectie kunnen de toestanden bijvoorbeeld \"in een CpG-eiland\" en \"buiten een CpG-eiland\" zijn.\n",
    "\n",
    "* **Overgangswaarschijnlijkheden / Transition probabilities** De kans dat het systeem van de ene toestand naar de andere overgaat. Bijvoorbeeld, de kansen om van \"buiten een CpG-eiland\" naar \"in een CpG-eiland\" te veranderen, en omgekeerd, of de kansen om binnen dezelfde toestand te blijven.\n",
    "\n",
    "* **Emissiekansen / Emission probabilities** De kans om een bepaalde uitkomst te observeren vanuit een gegeven toestand. Voor CpG-eilandjes zijn dit de kansen van het voorkomen van verschillende nucleotiden (A, T, C, G) zowel in als buiten de eilandjes.\n",
    "\n",
    "* **Begintoestandsverdeling / Start probabilities** De initiële waarschijnlijkheden dat het systeem dat zich in een bepaalde toestand bevindt. Een DNA-sequentie kan met zekere kans beginnen met een CpG-eilandje, of niet.\n",
    "\n",
    "Een HMM maakt, net als elk model, diverse aannamen die de analyse van gegevens vereenvoudigen. De belangrijkste aannamen van een HMM zijn dat (1) het waargenomen systeem zich alléén in een discreet (d.w.z. eindig) aantal verschillende toestanden kan bevinden die variëren in de loop van de reeks, (2) dat de waarnemingen die aan het systeem gedaan worden alléén afhangen van de huidige toestand van het systeem, en (3) dat de kansverdeling omtrent wat de toestand van het systeem op een volgend moment gaat zijn alléén afhangt van wat de toestand van het systeem op een voorgaand moment was.\n",
    "\n",
    "De toestand van het systeem is zelf niet rechtstreeks waarneembaar; wel waarneembaar zijn de emissies die afhangen van de toestand. De meestgestelde vraag die een HMM kan proberen te beantwoorden is: \"gegeven een serie waarnemingen, wat waren de meest waarschijnlijke onderliggende toestanden van het systeem\"? Bijvoorbeeld, in ons geval: \"gegeven een nucleotidesequentie, welke delen vallen in een CpG-eiland en welke vallen erbuiten\"?\n",
    "\n",
    "Bekijk onderstaande inleidende video en schrijf er een samenvatting van. Zoek zo nodig zelf uitgebreidere achtergrondinformatie over onbekende onderwerpen en vermeld deze bronnen in je samenvatting als referenties. Neem onder andere de bijbehorende [Wikipedia](https://en.wikipedia.org/wiki/Hidden_Markov_model) pagina door."
   ]
  },
  {
   "cell_type": "code",
   "execution_count": 4,
   "id": "7342e446",
   "metadata": {
    "scrolled": true
   },
   "outputs": [
    {
     "data": {
      "text/html": [
       "<iframe width=\"560\" height=\"315\" src=\"https://www.youtube.com/embed/fX5bYmnHqqE\" title=\"YouTube video player\" frameborder=\"0\" allow=\"accelerometer; autoplay; clipboard-write; encrypted-media; gyroscope; picture-in-picture; web-share\" referrerpolicy=\"strict-origin-when-cross-origin\" allowfullscreen></iframe>\n"
      ],
      "text/plain": [
       "<IPython.core.display.HTML object>"
      ]
     },
     "metadata": {},
     "output_type": "display_data"
    }
   ],
   "source": [
    "%%html\n",
    "<iframe width=\"560\" height=\"315\" src=\"https://www.youtube.com/embed/fX5bYmnHqqE\" title=\"YouTube video player\" frameborder=\"0\" allow=\"accelerometer; autoplay; clipboard-write; encrypted-media; gyroscope; picture-in-picture; web-share\" referrerpolicy=\"strict-origin-when-cross-origin\" allowfullscreen></iframe>"
   ]
  },
  {
   "cell_type": "code",
   "execution_count": 5,
   "id": "43f3ffe6",
   "metadata": {},
   "outputs": [],
   "source": [
    "# UITWERKING"
   ]
  },
  {
   "cell_type": "markdown",
   "id": "5d29da5e",
   "metadata": {},
   "source": [
    "<a id=\"3\" href=\"#0\" style=\"text-align: right; display: block;\">Terug naar boven</a>\n",
    "\n",
    "### CpG-eiland en non-CpG-eiland sequenties\n",
    "\n",
    "De onderstaande tabellen geven de experimentele waarschijnlijkheden aan dat een zekere nucleotide (in de rijen) gevolg wordt door een zekere andere nucleotide (in de kolommen) binnen en buiten CpG-eilanden.\n",
    "\n",
    "Bron: \"Biological sequence analysis - Probabilistic models of proteins and nucleic acids\", Durbin et al. (1998), hoofdstuk 3, p50-51 ([ref](http://www.mcb111.org/w06/durbin_book.pdf)).\n",
    "\n",
    "*CGI* (`+`)\n",
    "\n",
    "|  `+`  |   A   |   C   |   G   |   T   |\n",
    "| :---: | :---: | :---: | :---: | :---: |\n",
    "| **A** | 0.180 | 0.274 | 0.426 | 0.120 |\n",
    "| **C** | 0.171 | 0.368 | 0.274 | 0.188 |\n",
    "| **T** | 0.161 | 0.339 | 0.375 | 0.125 |\n",
    "| **G** | 0.079 | 0.355 | 0.384 | 0.182 |\n",
    "\n",
    "*non-CGI* (`-`)\n",
    "\n",
    "|  `-`  |   A   |   C   |   G   |   T   |\n",
    "| :---: | :---: | :---: | :---: | :---: |\n",
    "| **A** | 0.300 | 0.205 | 0.285 | 0.210 |\n",
    "| **C** | 0.322 | 0.298 | 0.078 | 0.302 |\n",
    "| **G** | 0.248 | 0.246 | 0.298 | 0.208 |\n",
    "| **T** | 0.177 | 0.239 | 0.292 | 0.292 |\n",
    "\n",
    "Bijvoorbeeld, de kans dat een gegeven C gevolgd wordt door een G is slechts 7.8 % buiten een CpG-eilandje, maar neemt toe tot maar liefst 27.4 % binnen een CpG-eilandje, hetgeen benadrukt hoe sterk CpG-dinucleotiden relatief oververtegenwoordigd zijn binnen CpG-eilandjes. Ga na dat de som van de kansen in elke rij van de tabel moet sommeren tot 100% (op afrondfouten na).\n",
    "\n",
    "Genereer met python-code een willekeurige sequentie van 300 baseparen lengte overeenkomend met een CpG-eiland en een soortgelijke sequentie van een non-CpG-eiland. Kies telkens het eerste nucleotide willekeurig, en gebruik dan de bovenstaande overgangswaarschijnlijkheden om de sequentie te verlengen. Bepaal van de gegenereerde complete sequenties de kansen op elk nucleotide ($P_A, P_C, P_G, P_T$) evenals de kansen op elk dinucleotide ($P_{AA}, P_{AC}, \\ldots, P_{TT}$). Bepaal voor elk dinucleotide ook de ratios $r$ tussen de waargenomen en de verwachte kans, zoals\n",
    "\n",
    "$$\n",
    "r_{AC} = \\frac{P_{AC}}{P_A \\cdot P_C}\n",
    "$$\n",
    "\n",
    "Wat kun je verhoudingsgewijs zeggen over hoe vaak C en G afzonderlijk voorkomen, en hoe vaak het CpG-dinucleotide voorkomt? Welke combinaties van nucleotiden zijn het sterkst over- of ondergerepresenteerd?"
   ]
  },
  {
   "cell_type": "code",
   "execution_count": 44,
   "id": "726056a7",
   "metadata": {},
   "outputs": [
    {
     "name": "stdout",
     "output_type": "stream",
     "text": [
      "CpG island = GTAGGGCTCTCGCAAGTTGCACTAGCCAACTAGAAATCTTCTTCCTGGTCTTTTTTTGGCTGTCACCCAAGTCGACAGTCCCAAGGGCTCCTTGGCCCCTGTTAAGAGCTGCCAAATTTACTTGACTCCATTTGCTCGCATGTGCCCAGGTGATAAATCCAAGACCACCCTAGAAAGAGGATACCTTGAATTTGCAACAACTCGATTTACCCGAGAATTCCTAGGACACTCGGCAAAGAAGTTCTGCATCACCTTCAGTGGAGGGAAGGGATTTTCTTTGCCACATTAAAAGGAGCCAAG \n",
      "\n",
      "CpG total probabilaty = {'A': 0.2633333333333333, 'T': 0.26, 'C': 0.26, 'G': 0.21666666666666667} \n",
      "\n",
      "CpG pair probabilaty = {'AA': 0.08666666666666667, 'AT': 0.043333333333333335, 'AC': 0.05333333333333334, 'AG': 0.08, 'TA': 0.03666666666666667, 'TT': 0.1, 'TC': 0.06666666666666667, 'TG': 0.056666666666666664, 'CA': 0.07666666666666666, 'CT': 0.08, 'CC': 0.08333333333333333, 'CG': 0.02, 'GA': 0.06333333333333334, 'GT': 0.03666666666666667, 'GC': 0.056666666666666664, 'GG': 0.056666666666666664} \n",
      "\n",
      "Non CpG island = AATCTAGATGCAGGGGAAGAAGATGTACCGGGATGAGTAAGGGAAGCCACAGGAATTACAATTTCTCATGATGACTGACCACTTTCCACACTTTTCACCACCCTATCAAGTAAACATATGGGATGGGGGCTCTACAGGCGGTGCCCTCTTTATTGCATTATTCTCTAGCGATTTTTTGGTTCCAGCAAGATCCTGCAATCAGGAAAATGGAAGTAGTGGGGGTCCTAAGGCTAAAAACACCCTGCTCCCCTCATGGAATCTCAGTTCATTCCGGTTTTCTGAGTACAGATTGGGGGTTTT \n",
      "\n",
      "Non CpG total probabilaty = {'A': 0.26666666666666666, 'T': 0.27666666666666667, 'C': 0.21666666666666667, 'G': 0.24} \n",
      "\n",
      "Non CpG pair probabilaty = {'AA': 0.07333333333333333, 'AT': 0.07666666666666666, 'AC': 0.05, 'AG': 0.06666666666666667, 'TA': 0.05, 'TT': 0.09333333333333334, 'TC': 0.07, 'TG': 0.06, 'CA': 0.07666666666666666, 'CT': 0.06666666666666667, 'CC': 0.06, 'CG': 0.013333333333333334, 'GA': 0.06333333333333334, 'GT': 0.04, 'GC': 0.03666666666666667, 'GG': 0.1} \n",
      "\n"
     ]
    }
   ],
   "source": [
    "# UITWERKING\n",
    "import random\n",
    "\n",
    "non_cpg = {\n",
    "    \"A\": [0.300, 0.205, 0.285, 0.210],\n",
    "    \"C\": [0.322, 0.298, 0.078, 0.302],\n",
    "    \"G\": [0.248, 0.246, 0.298, 0.208],\n",
    "    \"T\": [0.177, 0.239, 0.292, 0.292]\n",
    "}\n",
    "\n",
    "cpg_dict = {\n",
    "    \"A\": [0.180, 0.274, 0.426, 0.120],\n",
    "    \"C\": [0.171, 0.368, 0.274, 0.188],\n",
    "    \"G\": [0.079, 0.355, 0.384, 0.182],\n",
    "    \"T\": [0.161, 0.339, 0.375, 0.125]\n",
    "}\n",
    "\n",
    "nucs = [\"A\", \"C\", \"G\", \"T\"]\n",
    "\n",
    "def make_seq(length, matrix):\n",
    "    sequence = []\n",
    "    current = random.choice(nucs)\n",
    "    sequence.append(current)\n",
    "\n",
    "    for i in range(length - 1):\n",
    "        prob = matrix[current]\n",
    "        current = random.choices(nucs, prob)[0]\n",
    "        sequence.append(current)\n",
    "\n",
    "    return sequence\n",
    "\n",
    "def prob_counter(psequence):\n",
    "    total = {\n",
    "        \"A\":0,\n",
    "        \"T\":0,\n",
    "        \"C\":0,\n",
    "        \"G\":0}\n",
    "\n",
    "    pairs = { \n",
    "        \"AA\":0,\n",
    "        \"AT\":0,\n",
    "        \"AC\":0,\n",
    "        \"AG\":0,\n",
    "        \"TA\":0,\n",
    "        \"TT\":0,\n",
    "        \"TC\":0,\n",
    "        \"TG\":0,\n",
    "        \"CA\":0,\n",
    "        \"CT\":0,\n",
    "        \"CC\":0,\n",
    "        \"CG\":0,\n",
    "        \"GA\":0,\n",
    "        \"GT\":0,\n",
    "        \"GC\":0,\n",
    "        \"GG\":0}\n",
    "    \n",
    "    for i in range(len(psequence)):\n",
    "        total[psequence[i]] += 1\n",
    "        if i != 0:\n",
    "            pairs[psequence[i-1] + psequence[i]]+=1\n",
    "\n",
    "    return divide_dict(total, len(psequence)), divide_dict(pairs, len(psequence))\n",
    "\n",
    "def divide_dict(my_dict, amount):\n",
    "    for i in my_dict:\n",
    "        my_dict[i] /= amount\n",
    "    return my_dict\n",
    "\n",
    "\n",
    "cpg_seq = \"\".join(make_seq(300, non_cpg))\n",
    "\n",
    "print(\"CpG island =\" , cpg_seq , \"\\n\")\n",
    "\n",
    "cpg_total, cpg_pairs = prob_counter(cpg_seq) \n",
    "print(\"CpG total probabilaty =\", cpg_total , \"\\n\")\n",
    "print(\"CpG pair probabilaty =\" , cpg_pairs , \"\\n\")\n",
    "\n",
    "non_cpg_seq = \"\".join(make_seq(300, non_cpg))\n",
    "\n",
    "print(\"Non CpG island =\" , non_cpg_seq , \"\\n\")\n",
    "\n",
    "non_cpg_total, non_cpg_pairs = prob_counter(non_cpg_seq) \n",
    "print(\"Non CpG total probabilaty =\", non_cpg_total , \"\\n\")\n",
    "print(\"Non CpG pair probabilaty =\" , non_cpg_pairs , \"\\n\")\n"
   ]
  },
  {
   "cell_type": "markdown",
   "id": "1a845977",
   "metadata": {},
   "source": [
    "<a id=\"4\" href=\"#0\" style=\"text-align: right; display: block;\">Terug naar boven</a>\n",
    "\n",
    "### Toy-data\n",
    "\n",
    "Gegeven zijn drie tafels (overeenkomend met toestanden) die elk een grabbelton bevatten waaruit gekleurde knikkers kunnen worden getrokken (emissies) en met elk een dobbelsteen die bepaalt naar welke volgende tafel je gaat (overgangswaarschijnlijkheden).\n",
    "\n",
    "| Tafel: |  ❶  |  ❷  |  ❸  |\n",
    "| -----: | :-: | :-: | :-: |\n",
    "| **Grabbelton:** | 6x blauw | 2x blauw | 1x blauw |\n",
    "|                 | 3x geel  | 6x geel  | 0x geel  | \n",
    "|                 | 1x groen | 2x groen | 6x groen |\n",
    "|                 | 2x rood  | 2x rood  | 5x rood  |\n",
    "| **Dobbelsteen:** | ⚀→① | ⚀→① | ⚀→① |\n",
    "|                  | ⚁→② | ⚁→② | ⚁→① |\n",
    "|                  | ⚂→② | ⚂→② | ⚂→① |\n",
    "|                  | ⚃→② | ⚃→③ | ⚃→① |\n",
    "|                  | ⚄→③ | ⚄→③ | ⚄→② |\n",
    "|                  | ⚅→③ | ⚅→③ | ⚅→③ |\n",
    "\n",
    "Beginnend bij een willekeurige tafel, trek individueel een knikker en noteer de kleur samen met het nummer van de tafel. Gebruik de dobbelsteen om te bepalen naar welke volgende tafel je gaat. Herhaal dit tot je ongeveer een dertigtal waarnemingen hebt gegenereerd en je weer precies terug bent gekomen bij de tafel waar je was begonnen.\n",
    "\n",
    "Bijvoorbeeld:\n",
    "| **Beurt:** | 1     | 2     | 3     | 4     | 5     | 6     | 7     | ... | 30    |\n",
    "| ---------: | :---: | :---: | :---: | :---: | :---: | :---: | :---: | :-: | :---: |\n",
    "| **Tafel:** | ❷     | ❸     | ❶     | ❸     | ❷     | ❷     | ❶     | ... | ❸     |\n",
    "| **Kleur:** | geel  | groen | blauw | rood  | groen | geel  | blauw | ... | rood  |\n",
    "| **Worp:**  | ⚃     | ⚀     | ⚄     | ⚄     | ⚂     | ⚀     | ⚂     | ... | ⚄     |\n",
    "\n",
    "Naast het bepalen van je eigen sequentie, combineer de waarnemingen van al je klasgenoten tot één lange sequentie."
   ]
  },
  {
   "cell_type": "markdown",
   "id": "65e4c54a",
   "metadata": {},
   "source": [
    "<a id=\"5\" href=\"#0\" style=\"text-align: right; display: block;\">Terug naar boven</a>\n",
    "\n",
    "### Je eigen `HiddenMarkovModel` class\n",
    "\n",
    "Maak een eigen module-bestand genaamd `hmmmodel.py` aan en definieer daarin een klasse `HiddenMarkovModel`. Deze klasse dient een begintoestandsverdeling, overgangswaarschijnlijkheden, en emissiekansen te kunnen bevatten. De klasse dient verder een methode `sample()` te hebben die het mogelijk maakt om een gevraagd aantal waarnemingen te genereren op basis van een gegeven Hidden Markov Model. Voeg implementaties van een aantal standaard dunder-methoden toe (`__init__()`, `__str__()`, `__repr__()`).\n",
    "\n",
    "Implementeer de functionaliteit van je eigen module zodanig dat deze grotendeels compatibel is met de `CategoricalHMM` klasse van de `hmmlearn` module waarvan je de documentatie [online](https://hmmlearn.readthedocs.io/en/latest/api.html#categoricalhmm) kan vinden. Deze module zit niet in de standaard library van python en dien je zelf wellicht nog te installeren. Merk op dat niet alle functionaliteit uit deze klasse hoeft te worden geïmplementeerd. Vooralsnog gaat het voornamelijk om initialisatie en de `sample()` methode. Later voegen we nog meer methoden aan je klasse toe.\n",
    "\n",
    "Gebruik je eigen module om sequenties van 1200 toestanden en bijbehorende waarnemingen te genereren voor de eerdere toy-data. De tafelnummers zijn daarin de toestanden en de kleuren knikkers zijn de emissies. Dit zou moeten kunnen met code zoals hieronder.\n",
    "\n",
    "```python\n",
    "from hmmmodel import HiddenMarkovModel as HMM\n",
    "model = HMM(n_components=..., n_features=...)\n",
    "model.startprob_ = ...\n",
    "model.transmat_ = ...\n",
    "model.emissionprob_ = ...\n",
    "emissions, states = model.sample(1200)\n",
    "print(model)\n",
    "```\n",
    "\n",
    "Toon histogrammen van de toestanden en emissies voor al deze sequenties, en schat *op basis van de gegenereerde sequentie* de overgangswaarschijnlijkheden en emissiekansen. Ga na of deze goed overeenkomen met de instellingen van het Hidden Markov Model.\n",
    "\n",
    "Vergelijk tenslotte of je eigen klasse soortgelijke resultaten geeft als `hmmlearn.hmm.CategoricalHMM` (d.w.z. met soortgelijke code als hierboven, maar met `from hmmlearn.hmm import CategoricalHMM as HMM`)."
   ]
  },
  {
   "cell_type": "code",
   "id": "1ec31b62",
   "metadata": {
    "ExecuteTime": {
     "end_time": "2024-11-20T21:18:02.570956Z",
     "start_time": "2024-11-20T21:18:02.519731Z"
    }
   },
   "source": [
    "# UITWERKING\n",
    "from hmmmodel import HiddenMarkovModel as HM\n",
    "model = HM(3, 4)\n",
    "model.startprob_ = [0.3, 0.4, 0.4]\n",
    "model.transmat_ = [\n",
    "    [0.2, 0.2, 0.6],\n",
    "    [0.5, 0.3, 0.2],\n",
    "    [0.1, 0.4, 0.5]\n",
    "]\n",
    "\n",
    "model.emissionprob_ = [\n",
    "    [0.7, 0.2, 0.1, 0.0],\n",
    "    [0.1, 0.4, 0.4, 0.1],\n",
    "    [0.3, 0.3, 0.2, 0.2]\n",
    "]\n",
    "\n",
    "states, emissions = model.sample(1200)\n",
    "print(model)\n",
    "print(\"States\\t:\", states)\n",
    "print(\"Emissions\\t:\", emissions)"
   ],
   "outputs": [
    {
     "name": "stdout",
     "output_type": "stream",
     "text": [
      "HiddenMarkovModel(n_components=3, n_features=4)\n",
      "States\t: [2, 0, 2, 2, 1, 0, 2, 2, 2, 1, 0, 2, 2, 2, 0, 0, 2, 1, 2, 2, 0, 2, 2, 1, 1, 0, 2, 2, 2, 1, 1, 0, 2, 0, 2, 2, 2, 1, 2, 1, 0, 1, 1, 0, 2, 1, 2, 2, 1, 2, 2, 1, 1, 0, 2, 1, 1, 0, 1, 1, 0, 2, 1, 0, 2, 2, 0, 2, 1, 1, 0, 1, 0, 2, 2, 1, 2, 1, 0, 1, 0, 0, 1, 2, 1, 0, 0, 2, 2, 1, 0, 2, 2, 2, 2, 2, 2, 1, 2, 1, 0, 2, 0, 2, 2, 0, 2, 1, 0, 2, 2, 1, 2, 2, 1, 0, 2, 1, 0, 2, 1, 0, 1, 0, 2, 1, 2, 2, 0, 2, 1, 2, 1, 1, 0, 2, 1, 0, 2, 2, 2, 1, 0, 2, 2, 2, 2, 1, 0, 0, 2, 2, 2, 2, 1, 0, 0, 2, 1, 2, 1, 2, 2, 2, 1, 0, 0, 2, 1, 0, 2, 2, 2, 2, 2, 1, 0, 0, 2, 0, 2, 2, 2, 1, 1, 1, 0, 0, 0, 1, 0, 2, 0, 2, 2, 2, 2, 1, 2, 2, 0, 2, 1, 1, 1, 0, 1, 0, 1, 0, 2, 1, 1, 1, 2, 2, 1, 0, 2, 2, 1, 1, 1, 0, 2, 0, 1, 0, 1, 0, 1, 2, 1, 1, 0, 0, 2, 1, 0, 0, 2, 2, 1, 0, 2, 1, 0, 2, 1, 1, 0, 2, 1, 0, 0, 1, 1, 1, 1, 0, 1, 0, 2, 2, 1, 0, 2, 2, 0, 1, 0, 2, 2, 1, 0, 1, 0, 1, 0, 2, 1, 1, 0, 2, 2, 1, 2, 2, 1, 1, 2, 1, 0, 1, 1, 1, 0, 2, 1, 2, 2, 0, 2, 2, 2, 1, 1, 0, 2, 0, 2, 2, 0, 2, 2, 2, 0, 0, 2, 2, 2, 1, 2, 1, 0, 2, 1, 1, 1, 0, 2, 2, 2, 0, 2, 2, 2, 2, 2, 2, 0, 0, 0, 0, 2, 2, 2, 2, 2, 1, 2, 2, 2, 2, 2, 2, 2, 2, 0, 2, 1, 0, 2, 1, 0, 2, 2, 2, 1, 1, 2, 2, 2, 2, 2, 1, 1, 2, 1, 0, 2, 0, 2, 1, 0, 2, 2, 2, 1, 1, 2, 2, 1, 0, 2, 1, 0, 2, 1, 1, 1, 2, 2, 2, 2, 1, 1, 0, 2, 2, 2, 2, 2, 2, 1, 0, 2, 1, 0, 0, 2, 1, 2, 1, 1, 1, 1, 0, 2, 2, 2, 2, 2, 2, 0, 1, 0, 2, 1, 0, 1, 1, 1, 0, 0, 2, 1, 2, 2, 2, 2, 1, 0, 2, 2, 1, 0, 2, 2, 2, 2, 2, 0, 2, 2, 2, 2, 0, 2, 2, 1, 1, 0, 2, 1, 0, 2, 2, 1, 0, 2, 1, 1, 0, 2, 2, 1, 1, 0, 2, 2, 1, 2, 2, 2, 0, 0, 2, 1, 0, 1, 2, 2, 2, 1, 0, 0, 2, 1, 1, 1, 1, 0, 2, 2, 1, 2, 1, 1, 0, 2, 1, 2, 1, 0, 0, 2, 2, 1, 0, 2, 2, 2, 2, 1, 1, 1, 1, 1, 0, 1, 0, 0, 2, 2, 2, 1, 1, 0, 2, 2, 2, 1, 0, 0, 2, 1, 1, 0, 1, 2, 2, 2, 2, 1, 1, 0, 2, 1, 0, 2, 1, 0, 0, 1, 0, 2, 2, 2, 2, 2, 1, 0, 0, 0, 2, 1, 1, 0, 2, 2, 1, 1, 0, 1, 1, 0, 2, 1, 2, 2, 2, 2, 1, 0, 0, 2, 2, 0, 2, 2, 2, 2, 1, 0, 2, 1, 1, 0, 1, 0, 2, 1, 1, 1, 2, 0, 1, 1, 0, 1, 1, 0, 2, 0, 2, 2, 2, 1, 1, 0, 2, 1, 1, 2, 1, 1, 1, 0, 2, 2, 1, 1, 0, 2, 1, 2, 2, 1, 1, 0, 2, 1, 0, 1, 1, 0, 0, 2, 2, 1, 0, 2, 0, 1, 2, 2, 2, 1, 0, 2, 2, 2, 1, 2, 2, 1, 2, 1, 0, 2, 2, 1, 0, 1, 0, 2, 1, 2, 1, 0, 0, 1, 0, 2, 2, 2, 2, 2, 2, 1, 2, 0, 0, 2, 2, 0, 1, 2, 1, 0, 2, 1, 1, 1, 1, 0, 1, 1, 2, 2, 1, 0, 2, 1, 1, 0, 1, 0, 2, 2, 2, 1, 0, 1, 0, 2, 1, 1, 0, 1, 2, 1, 1, 0, 0, 2, 2, 2, 2, 2, 1, 0, 2, 2, 1, 2, 0, 1, 1, 2, 0, 0, 0, 2, 1, 0, 1, 2, 1, 0, 2, 2, 1, 1, 0, 2, 2, 1, 0, 1, 0, 1, 2, 2, 2, 2, 2, 2, 1, 0, 2, 1, 0, 2, 2, 1, 0, 0, 2, 2, 2, 2, 2, 2, 2, 2, 2, 2, 2, 2, 2, 2, 1, 1, 1, 2, 1, 2, 2, 1, 0, 2, 2, 2, 2, 1, 2, 1, 0, 2, 1, 1, 0, 0, 2, 2, 2, 1, 0, 0, 2, 2, 1, 0, 0, 1, 1, 0, 2, 1, 1, 2, 2, 0, 0, 1, 2, 1, 0, 2, 0, 2, 2, 2, 2, 2, 1, 0, 1, 1, 0, 2, 1, 2, 2, 2, 2, 1, 0, 2, 1, 1, 0, 2, 1, 0, 2, 1, 0, 2, 1, 0, 1, 2, 1, 1, 0, 1, 0, 2, 2, 2, 1, 1, 1, 0, 2, 1, 2, 2, 0, 2, 1, 0, 2, 2, 2, 0, 2, 0, 2, 2, 1, 0, 2, 2, 1, 0, 2, 2, 1, 1, 2, 1, 1, 0, 2, 2, 2, 2, 0, 2, 2, 1, 0, 0, 0, 2, 1, 1, 0, 2, 2, 2, 2, 1, 0, 2, 1, 0, 1, 2, 2, 2, 2, 0, 2, 1, 2, 1, 0, 2, 2, 1, 1, 0, 2, 1, 1, 1, 2, 2, 2, 2, 1, 0, 1, 2, 1, 0, 1, 0, 1, 1, 0, 1, 0, 0, 2, 2, 2, 0, 2, 1, 0, 2, 1, 2, 0, 0, 2, 1, 0, 2, 2, 2, 2, 2, 1, 0, 1, 1, 1, 0, 0, 1, 0, 2, 2, 2, 2, 1, 1, 1, 0, 2, 2, 2, 2, 1, 1, 2, 2, 0, 2, 2, 2, 2, 0, 2, 1, 2, 2, 2, 1, 2, 2, 1, 0, 2, 2, 1, 2, 2, 1, 2, 1, 1, 2, 2, 2, 2, 1, 0, 2, 2, 2, 2, 1, 2, 2, 0, 0, 0, 2, 2, 2, 2, 1, 0, 2, 2, 1, 0, 1, 2, 2, 2, 0, 1, 0, 0, 2, 2, 1, 1, 2, 1, 0, 2, 2, 2, 1, 1, 0, 0, 1, 0, 2, 1, 0, 2, 2, 1, 2, 2, 2, 2, 1, 0, 0, 2, 2, 2, 2, 2, 2, 2, 2, 2, 0, 1, 2, 2, 0, 1, 0, 2, 2, 2, 2, 1, 0, 1, 0, 1, 1, 0, 2, 2, 2, 1, 1, 1, 0, 2, 0, 2, 0, 2, 2, 1, 0, 0, 1, 0, 1, 1, 0, 2, 2, 2, 2, 2, 2, 1, 1, 0, 1]\n",
      "Emissions\t: [3, 0, 1, 3, 2, 0, 1, 0, 1, 0, 1, 0, 2, 1, 0, 0, 0, 0, 0, 3, 2, 0, 2, 2, 2, 1, 2, 3, 3, 1, 1, 0, 1, 0, 3, 3, 3, 1, 1, 2, 1, 1, 2, 0, 2, 1, 1, 1, 1, 1, 0, 1, 2, 0, 2, 1, 2, 1, 1, 1, 0, 1, 1, 0, 2, 3, 1, 3, 1, 1, 0, 3, 0, 3, 0, 0, 2, 0, 0, 1, 1, 0, 3, 3, 2, 1, 0, 0, 3, 3, 0, 3, 2, 0, 0, 0, 0, 0, 0, 3, 0, 3, 0, 1, 0, 0, 1, 1, 0, 0, 2, 2, 0, 3, 1, 0, 1, 2, 0, 3, 1, 0, 0, 1, 1, 2, 1, 0, 0, 2, 2, 1, 2, 1, 0, 3, 1, 1, 1, 1, 3, 0, 0, 0, 3, 2, 1, 2, 1, 1, 1, 1, 0, 0, 2, 0, 0, 0, 2, 3, 3, 0, 2, 3, 1, 1, 0, 1, 1, 0, 0, 0, 0, 3, 3, 1, 0, 1, 2, 0, 2, 2, 3, 1, 2, 1, 0, 1, 2, 2, 2, 0, 1, 0, 2, 0, 3, 2, 1, 0, 1, 2, 2, 1, 2, 0, 2, 0, 1, 0, 1, 1, 2, 2, 0, 3, 2, 2, 0, 2, 2, 2, 2, 0, 2, 1, 2, 0, 2, 0, 1, 0, 2, 1, 0, 0, 3, 1, 0, 0, 1, 0, 1, 0, 0, 2, 0, 1, 2, 0, 0, 3, 2, 1, 0, 2, 0, 2, 1, 2, 2, 0, 1, 0, 2, 1, 0, 1, 0, 0, 1, 1, 1, 1, 0, 3, 0, 2, 1, 1, 2, 2, 0, 1, 1, 1, 2, 2, 0, 1, 0, 2, 0, 2, 1, 0, 1, 0, 1, 0, 2, 0, 0, 3, 0, 1, 1, 2, 3, 1, 1, 2, 0, 3, 0, 2, 0, 0, 0, 1, 0, 3, 1, 2, 0, 2, 0, 2, 2, 0, 0, 1, 1, 0, 3, 2, 2, 2, 3, 2, 1, 0, 0, 0, 3, 3, 1, 3, 2, 1, 0, 3, 2, 2, 3, 3, 0, 1, 1, 1, 3, 0, 3, 1, 0, 0, 1, 1, 2, 2, 1, 2, 0, 0, 3, 2, 2, 1, 2, 1, 3, 0, 1, 1, 0, 0, 3, 2, 3, 1, 1, 2, 0, 0, 1, 1, 0, 1, 2, 3, 3, 1, 0, 2, 1, 1, 0, 0, 3, 1, 1, 1, 1, 1, 1, 0, 3, 2, 1, 0, 2, 0, 1, 1, 1, 2, 1, 0, 1, 3, 1, 2, 2, 3, 0, 3, 0, 0, 2, 0, 3, 1, 2, 0, 1, 1, 2, 3, 1, 1, 1, 2, 1, 0, 1, 1, 0, 2, 0, 2, 1, 0, 0, 2, 1, 1, 1, 0, 3, 0, 2, 0, 1, 1, 0, 2, 2, 0, 1, 0, 2, 1, 2, 0, 3, 0, 3, 1, 0, 1, 1, 1, 0, 0, 2, 0, 0, 0, 1, 0, 2, 1, 1, 3, 0, 1, 0, 3, 1, 3, 2, 0, 1, 3, 1, 0, 1, 1, 1, 1, 1, 2, 1, 2, 1, 0, 0, 1, 2, 0, 2, 1, 3, 2, 2, 2, 0, 2, 1, 1, 2, 0, 0, 3, 2, 2, 1, 2, 1, 3, 0, 2, 2, 0, 1, 1, 2, 1, 0, 0, 1, 1, 0, 0, 2, 2, 1, 1, 2, 1, 2, 2, 0, 2, 2, 0, 0, 2, 3, 0, 3, 0, 0, 0, 0, 1, 2, 1, 2, 1, 3, 3, 1, 0, 0, 2, 0, 3, 2, 3, 2, 0, 0, 1, 0, 0, 3, 1, 0, 0, 0, 3, 3, 0, 0, 1, 0, 1, 1, 1, 0, 2, 1, 2, 2, 2, 1, 1, 1, 0, 0, 2, 2, 2, 0, 2, 2, 0, 3, 1, 0, 1, 2, 3, 3, 3, 1, 2, 0, 0, 2, 2, 3, 0, 3, 0, 3, 3, 2, 1, 1, 0, 3, 1, 1, 3, 0, 0, 2, 0, 2, 1, 3, 0, 2, 1, 2, 0, 2, 0, 1, 2, 0, 1, 0, 3, 2, 0, 1, 0, 1, 1, 1, 0, 2, 0, 1, 2, 0, 1, 0, 1, 2, 0, 1, 0, 0, 2, 2, 2, 1, 1, 1, 1, 2, 1, 0, 1, 2, 3, 1, 3, 1, 1, 3, 1, 1, 1, 2, 1, 3, 2, 0, 0, 1, 1, 0, 2, 0, 3, 0, 3, 2, 0, 1, 2, 0, 1, 0, 1, 1, 2, 2, 1, 2, 1, 2, 1, 1, 1, 2, 1, 2, 3, 0, 0, 0, 0, 1, 1, 1, 0, 0, 2, 2, 2, 0, 2, 3, 1, 1, 3, 2, 3, 1, 0, 0, 0, 1, 0, 2, 1, 2, 3, 1, 1, 3, 1, 1, 2, 1, 2, 2, 0, 0, 3, 1, 1, 0, 2, 0, 3, 1, 2, 0, 1, 0, 1, 1, 3, 0, 1, 0, 2, 2, 2, 0, 3, 0, 1, 2, 1, 1, 3, 0, 2, 1, 0, 0, 0, 1, 1, 2, 0, 0, 2, 1, 1, 2, 2, 1, 2, 1, 0, 0, 1, 2, 2, 0, 1, 2, 3, 2, 0, 0, 0, 2, 1, 1, 1, 0, 1, 2, 2, 2, 2, 0, 1, 0, 1, 1, 0, 1, 0, 1, 3, 1, 0, 0, 1, 1, 3, 1, 0, 0, 3, 0, 2, 2, 1, 3, 1, 2, 2, 1, 2, 1, 0, 1, 0, 2, 3, 0, 2, 2, 2, 0, 3, 0, 2, 3, 0, 3, 1, 0, 3, 1, 0, 1, 0, 0, 3, 0, 2, 1, 1, 0, 1, 1, 3, 1, 0, 1, 1, 3, 1, 0, 1, 1, 0, 0, 0, 0, 0, 2, 0, 0, 0, 1, 2, 2, 0, 2, 1, 3, 2, 1, 0, 0, 2, 0, 1, 0, 1, 2, 1, 0, 2, 3, 2, 2, 0, 1, 1, 2, 1, 0, 1, 2, 2, 1, 2, 1, 1, 0, 2, 0, 1, 3, 1, 0, 1, 0, 3, 1, 0, 2, 0, 1, 1, 2, 0, 0, 0, 0, 0, 1, 1, 3, 0, 0, 1, 2, 0, 0, 0, 3, 0, 0, 2, 0, 1, 2, 1, 0, 1, 1, 0, 0, 1, 0, 1, 1, 1, 1, 0, 3, 1, 2, 0, 1, 2, 3, 2, 0, 0, 3, 1, 2, 1, 0, 2, 1, 2, 3, 0, 3, 0, 1, 1, 0, 1, 2, 2, 2, 2, 0, 2, 2, 2, 0, 1, 0, 2, 0, 0, 1, 0, 1, 2, 0, 0, 1, 1, 0, 1, 1, 0, 1, 3, 1, 3, 1, 2, 1, 1, 0, 1, 0, 0, 3, 0, 2, 1, 1, 1, 2, 2, 3, 1, 0, 1, 2, 2, 2, 0, 0, 1, 0, 0, 1, 0, 1, 0, 1, 1, 2, 1, 1, 1, 1, 0, 3, 3, 0, 2, 0, 1, 0, 0, 1, 0, 3, 0, 0, 0, 2, 0, 1, 3, 1, 1, 2, 0, 2, 1, 1, 2, 0, 2, 1, 0, 3, 1, 2, 0, 1, 0, 3, 1, 0, 3, 2, 0, 0, 1, 0, 2, 1, 0, 0, 1, 2, 2, 3, 3, 2, 3, 2, 1]\n"
     ]
    }
   ],
   "execution_count": 10
  },
  {
   "metadata": {},
   "cell_type": "markdown",
   "source": "",
   "id": "82a8189d2007dc06"
  },
  {
   "cell_type": "markdown",
   "id": "0a939ddc",
   "metadata": {},
   "source": [
    "***\n",
    "\n",
    "&copy; 2024 - Dave R.M. Langers <d.r.m.langers@pl.hanze.nl>"
   ]
  }
 ],
 "metadata": {
  "kernelspec": {
   "display_name": "Python 3 (ipykernel)",
   "language": "python",
   "name": "python3"
  },
  "language_info": {
   "codemirror_mode": {
    "name": "ipython",
    "version": 3
   },
   "file_extension": ".py",
   "mimetype": "text/x-python",
   "name": "python",
   "nbconvert_exporter": "python",
   "pygments_lexer": "ipython3",
   "version": "3.8.10"
  },
  "varInspector": {
   "cols": {
    "lenName": 16,
    "lenType": 16,
    "lenVar": 40
   },
   "kernels_config": {
    "python": {
     "delete_cmd_postfix": "",
     "delete_cmd_prefix": "del ",
     "library": "var_list.py",
     "varRefreshCmd": "print(var_dic_list())"
    },
    "r": {
     "delete_cmd_postfix": ") ",
     "delete_cmd_prefix": "rm(",
     "library": "var_list.r",
     "varRefreshCmd": "cat(var_dic_list()) "
    }
   },
   "types_to_exclude": [
    "module",
    "function",
    "builtin_function_or_method",
    "instance",
    "_Feature"
   ],
   "window_display": false
  }
 },
 "nbformat": 4,
 "nbformat_minor": 5
}
