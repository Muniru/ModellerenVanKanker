{
 "cells": [
  {
   "metadata": {
    "ExecuteTime": {
     "end_time": "2024-12-18T14:14:17.492669Z",
     "start_time": "2024-12-18T14:14:17.489942Z"
    }
   },
   "cell_type": "code",
   "source": [
    "import numpy as np\n",
    "import tensorflow as tf\n",
    "from tensorflow.math import confusion_matrix\n",
    "import keras\n",
    "from keras.models import Sequential\n",
    "from keras.layers import LSTM, Dense, Embedding, Input, Flatten\n",
    "import tensorflow as ts\n",
    "import matplotlib.pyplot as plt\n",
    "from keras import datasets"
   ],
   "id": "6d8e4654b06d6282",
   "outputs": [],
   "execution_count": 40
  },
  {
   "metadata": {},
   "cell_type": "markdown",
   "source": [
    "# deel 1\n",
    "Maak een neuraal netwerk dat in staat is van afbeeldingen aan te geven wat voor soort kledingstuk hierop staat. Maak gebruik van de fashion-mnist dataset, tensorflow en keras. Hou hierbij het volgende mantra in gedachten:\n",
    "\n",
    "\n",
    "1. Definieer het probleem\n",
    "2. Verzamel de data\n",
    "3. Laad de data in\n"
   ],
   "id": "780c2a307d338921"
  },
  {
   "metadata": {
    "ExecuteTime": {
     "end_time": "2024-12-18T14:14:17.722246Z",
     "start_time": "2024-12-18T14:14:17.506786Z"
    }
   },
   "cell_type": "code",
   "source": "(X_train, y_train), (X_test, y_test) = datasets.mnist.load_data()",
   "id": "44a242c69ffd1a57",
   "outputs": [],
   "execution_count": 41
  },
  {
   "metadata": {},
   "cell_type": "markdown",
   "source": [
    "5. Prepareer de data\n",
    "6. Visualiseer de data\n",
    "7. Splits de data"
   ],
   "id": "4b94ba26853c6016"
  },
  {
   "metadata": {
    "ExecuteTime": {
     "end_time": "2024-12-18T14:14:17.760634Z",
     "start_time": "2024-12-18T14:14:17.757906Z"
    }
   },
   "cell_type": "code",
   "source": "X_train.shape",
   "id": "d58e1863be7d2c21",
   "outputs": [
    {
     "data": {
      "text/plain": [
       "(60000, 28, 28)"
      ]
     },
     "execution_count": 42,
     "metadata": {},
     "output_type": "execute_result"
    }
   ],
   "execution_count": 42
  },
  {
   "metadata": {
    "ExecuteTime": {
     "end_time": "2024-12-18T14:14:17.828978Z",
     "start_time": "2024-12-18T14:14:17.816510Z"
    }
   },
   "cell_type": "code",
   "source": "X_test.shape",
   "id": "4339b8a466e6d1d4",
   "outputs": [
    {
     "data": {
      "text/plain": [
       "(10000, 28, 28)"
      ]
     },
     "execution_count": 43,
     "metadata": {},
     "output_type": "execute_result"
    }
   ],
   "execution_count": 43
  },
  {
   "metadata": {},
   "cell_type": "markdown",
   "source": [
    "8. Voorspel met het model de testdata\n",
    "9. Evalueer het model\n",
    "\n",
    "Zorg ervoor dat je de data splitst in een trainings- en een test-dataset (maak bijvoorbeeld gebruik van train_test_split, of een vergelijkbare techniek in keras). Maak visualisaties van de data en van de voorspellingen die het model doet (vergelijk de notebook die tijdens het plenaire deel is besproken)."
   ],
   "id": "9bdc36da6699f423"
  },
  {
   "metadata": {
    "ExecuteTime": {
     "end_time": "2024-12-18T14:14:17.910075Z",
     "start_time": "2024-12-18T14:14:17.877240Z"
    }
   },
   "cell_type": "code",
   "source": [
    "model = Sequential([\n",
    "    Flatten(input_shape=(28,28)),\n",
    "    Dense(128, activation='relu'),\n",
    "    Dense(10, activation='softmax'),\n",
    "])\n",
    "\n",
    "\n",
    "model.compile(\n",
    "    optimizer=tf. keras.optimizers.Adam(0.001),\n",
    "    loss=tf.keras.losses.SparseCategoricalCrossentropy(),\n",
    "    metrics=[tf.keras.metrics.SparseCategoricalAccuracy()],\n",
    ")"
   ],
   "id": "1950ed88fd372770",
   "outputs": [],
   "execution_count": 44
  },
  {
   "metadata": {},
   "cell_type": "markdown",
   "source": "Het maken van het model:",
   "id": "20f826cff82ad31e"
  },
  {
   "metadata": {
    "ExecuteTime": {
     "end_time": "2024-12-18T14:14:34.789214Z",
     "start_time": "2024-12-18T14:14:17.933988Z"
    }
   },
   "cell_type": "code",
   "source": "hist = model.fit(X_train, y_train, epochs=6)",
   "id": "c6f32a28e2b621f",
   "outputs": [
    {
     "name": "stdout",
     "output_type": "stream",
     "text": [
      "Epoch 1/6\n",
      "1875/1875 [==============================] - 3s 1ms/step - loss: 2.5612 - sparse_categorical_accuracy: 0.8638\n",
      "Epoch 2/6\n",
      "1875/1875 [==============================] - 3s 1ms/step - loss: 0.4121 - sparse_categorical_accuracy: 0.9050\n",
      "Epoch 3/6\n",
      "1875/1875 [==============================] - 3s 1ms/step - loss: 0.2991 - sparse_categorical_accuracy: 0.9250\n",
      "Epoch 4/6\n",
      "1875/1875 [==============================] - 3s 2ms/step - loss: 0.2480 - sparse_categorical_accuracy: 0.9368\n",
      "Epoch 5/6\n",
      "1875/1875 [==============================] - 3s 2ms/step - loss: 0.2307 - sparse_categorical_accuracy: 0.9418\n",
      "Epoch 6/6\n",
      "1875/1875 [==============================] - 3s 2ms/step - loss: 0.2131 - sparse_categorical_accuracy: 0.9457\n"
     ]
    }
   ],
   "execution_count": 45
  },
  {
   "metadata": {
    "ExecuteTime": {
     "end_time": "2024-12-18T14:14:34.938849Z",
     "start_time": "2024-12-18T14:14:34.814226Z"
    }
   },
   "cell_type": "code",
   "source": "plt.plot(hist.history['sparse_categorical_accuracy'])",
   "id": "b4d3731816adf01",
   "outputs": [
    {
     "data": {
      "text/plain": [
       "[<matplotlib.lines.Line2D at 0x7ff0872637f0>]"
      ]
     },
     "execution_count": 46,
     "metadata": {},
     "output_type": "execute_result"
    },
    {
     "data": {
      "text/plain": [
       "<Figure size 640x480 with 1 Axes>"
      ],
      "image/png": "[encoded data removed]"
     },
     "metadata": {},
     "output_type": "display_data"
    }
   ],
   "execution_count": 46
  },
  {
   "metadata": {},
   "cell_type": "markdown",
   "source": "Creating condusion matrix",
   "id": "d3d37d4b2c673c0a"
  },
  {
   "metadata": {},
   "cell_type": "markdown",
   "source": "",
   "id": "b1078ef476b9fc1d"
  },
  {
   "metadata": {
    "ExecuteTime": {
     "end_time": "2024-12-18T14:14:35.352023Z",
     "start_time": "2024-12-18T14:14:34.973653Z"
    }
   },
   "cell_type": "code",
   "source": [
    "y_pred = model.predict(X_test)\n",
    "confusion_matrix(np.argmax(y_pred, axis=1), y_test)"
   ],
   "id": "113235183b615371",
   "outputs": [
    {
     "name": "stdout",
     "output_type": "stream",
     "text": [
      "313/313 [==============================] - 0s 794us/step\n"
     ]
    },
    {
     "data": {
      "text/plain": [
       "<tf.Tensor: shape=(10, 10), dtype=int32, numpy=\n",
       "array([[ 951,    0,    5,    0,    0,    3,    5,    0,    3,    3],\n",
       "       [   1, 1120,    5,    0,    0,    1,    4,    4,    0,    7],\n",
       "       [   2,    3,  963,   22,    4,    0,    1,   14,    9,    0],\n",
       "       [   1,    1,   10,  917,    0,   29,    1,    3,    9,    7],\n",
       "       [   3,    0,    1,    0,  921,    1,    4,    2,    3,   11],\n",
       "       [   0,    0,    1,   19,    0,  805,    2,    0,    3,    3],\n",
       "       [   5,    4,    3,    0,    7,   13,  926,    0,    9,    0],\n",
       "       [   1,    0,    8,    4,    3,    1,    0,  970,    1,   10],\n",
       "       [  16,    7,   34,   40,   12,   37,   15,   11,  928,   22],\n",
       "       [   0,    0,    2,    8,   35,    2,    0,   24,    9,  946]],\n",
       "      dtype=int32)>"
      ]
     },
     "execution_count": 47,
     "metadata": {},
     "output_type": "execute_result"
    }
   ],
   "execution_count": 47
  },
  {
   "metadata": {},
   "cell_type": "markdown",
   "source": "Visualization",
   "id": "d3564f20aaba3a6c"
  },
  {
   "metadata": {
    "ExecuteTime": {
     "end_time": "2024-12-19T08:12:58.450192Z",
     "start_time": "2024-12-19T08:12:55.647426Z"
    }
   },
   "cell_type": "code",
   "source": [
    "fig, ax = plt.subplots(nrows=3, ncols=3, figsize=(8,8))\n",
    "for c in range(3):\n",
    "    for r in range(3):\n",
    "        idx = np.random.choice(10_000)\n",
    "        img = np.array(X_test[idx], dtype='float')\n",
    "        ax[c, r].imshow(img.reshape(28,28), cmap='gray')\n",
    "\n",
    "        label_y = y_test[idx]\n",
    "        label_p = np.argmax(y_pred[idx])\n",
    "        if label_y == label_p:\n",
    "            ax[c, r].set_title(label_y)\n",
    "        else:\n",
    "            ax[c, r].set_title(f'{label_y} ({label_p})', c='r')\n",
    "fig.tight_layout(pad=2)\n",
    "plt.show()"
   ],
   "id": "a644cf5bd0f248d2",
   "outputs": [
    {
     "data": {
      "text/plain": [
       "<Figure size 800x800 with 9 Axes>"
      ],
      "image/png": "[encoded data removed]"
     },
     "metadata": {},
     "output_type": "display_data"
    }
   ],
   "execution_count": 48
  },
  {
   "metadata": {},
   "cell_type": "markdown",
   "source": [
    "# deel 2\n",
    "\n",
    "Schrijfster Janelle Shane heeft een aardige blog over AI en machine modellen, waarin ze de grenzen van dit soort technieken opzoekt. Zo heeft ze een keer een netwerk getraind om te afbeeldingen van Star Wars karakters te kunnen klassificeren, om vervolgens foto's van zichzelf of andere personen hierdoor te laten klassificeren. Probeer hetzelfde eens bij het netwerk dat je hebt getraind om die kleding te klassificeren. Als je hier een foto van jezelf aan geeft, kan het model dan aangeven hoeveel procent schoen je bent, of hoeveel procent T-shirt?\n",
    "\n"
   ],
   "id": "c81b64938dbc289e"
  },
  {
   "metadata": {},
   "cell_type": "code",
   "outputs": [],
   "execution_count": null,
   "source": "",
   "id": "bac4d0c2efdfa02e"
  }
 ],
 "metadata": {
  "kernelspec": {
   "display_name": "Python 3",
   "language": "python",
   "name": "python3"
  },
  "language_info": {
   "codemirror_mode": {
    "name": "ipython",
    "version": 2
   },
   "file_extension": ".py",
   "mimetype": "text/x-python",
   "name": "python",
   "nbconvert_exporter": "python",
   "pygments_lexer": "ipython2",
   "version": "2.7.6"
  }
 },
 "nbformat": 4,
 "nbformat_minor": 5
}
