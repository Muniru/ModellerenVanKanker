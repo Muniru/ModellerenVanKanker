{
 "cells": [
  {
   "metadata": {},
   "cell_type": "markdown",
   "source": "# Medicijn hergebruik voor kanker\n",
   "id": "2cad44ee20b40d61"
  },
  {
   "metadata": {},
   "cell_type": "markdown",
   "source": [
    "\n",
    "## Intro\n",
    "Het ontwikkelen van nieuwe medicijnen kost veel geld en tijd, terwijl het niet altijd nodig is om die helemaal opnieuw te ontwikkelen. We beschikken namelijk al over een breed scala aan goedgekeurde medicijnen. Bij colorectale kanker is er sprake van verhoogde genetische instabiliteit, veroorzaakt door hoge LINE-1 transposonactiviteit, wat een kenmerk is van de ziekte. Ieder heeft ongeveer 100 actieve, maar zwaar gemethyleerde LINE-1's in het genoom. Deze functioneren door middel van reverse transcriptase (RT), afkomstig van hun retrovirale achtergrond. Hierdoor is het mogelijk retrovirale virusremmers, zoals HIV-remmers, te gebruiken als medicijn om deze activiteit te onderdrukken. Dit wordt al toegepast in sommige kankertherapieën en is een voorbeeld van medicijn hergebruik. Het biedt een kans om te onderzoeken of er wellicht andere medicijnen zijn die potentieel kunnen worden gebruikt in de behandeling van kanker."
   ],
   "id": "b9f5c0201897932b"
  },
  {
   "metadata": {},
   "cell_type": "markdown",
   "source": [
    "# Doel\n",
    "\n",
    "Het doel van dit project is om te onderzoeken of er al mogelijk bestaande medicatie is die van toepassing kan zijn op kanker. Dit gaan we onderzoeken doormiddel van RNA count data van kanker en niet kanker. Hier worden de differential expressed genes (DEG) van afgeleid. Vervolgens een medicijnen netwerk op te zetten op basis van deze DEG. Dit zal leiden tot een netwerk model van potentiele medicijnen."
   ],
   "id": "cb6fc589d24c8699"
  },
  {
   "metadata": {},
   "cell_type": "markdown",
   "source": "# Project Imports",
   "id": "ebca2b78200ed511"
  },
  {
   "metadata": {
    "jupyter": {
     "is_executing": true
    }
   },
   "cell_type": "code",
   "source": "import pandas as pd, numpy as np, matplotlib, seaborn, scipy",
   "id": "9be719bae2b1a3a5",
   "outputs": [],
   "execution_count": null
  },
  {
   "metadata": {},
   "cell_type": "markdown",
   "source": "# Exploratieve Data Analysis",
   "id": "ab1c5c81eb5bc7d7"
  },
  {
   "metadata": {},
   "cell_type": "markdown",
   "source": "Start!",
   "id": "d53847606d3db8fa"
  },
  {
   "metadata": {},
   "cell_type": "code",
   "outputs": [],
   "execution_count": null,
   "source": "",
   "id": "c580fd9bacc1694c"
  }
 ],
 "metadata": {
  "kernelspec": {
   "display_name": "Python 3",
   "language": "python",
   "name": "python3"
  },
  "language_info": {
   "codemirror_mode": {
    "name": "ipython",
    "version": 2
   },
   "file_extension": ".py",
   "mimetype": "text/x-python",
   "name": "python",
   "nbconvert_exporter": "python",
   "pygments_lexer": "ipython2",
   "version": "2.7.6"
  }
 },
 "nbformat": 4,
 "nbformat_minor": 5
}
